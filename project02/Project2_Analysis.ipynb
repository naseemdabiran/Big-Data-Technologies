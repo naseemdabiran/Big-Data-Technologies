{
 "cells": [
  {
   "cell_type": "markdown",
   "id": "73bc9548",
   "metadata": {
    "id": "73bc9548"
   },
   "source": [
    "# Analysis of IMDB Data"
   ]
  },
  {
   "cell_type": "markdown",
   "id": "4b3da555",
   "metadata": {
    "id": "4b3da555"
   },
   "source": [
    "We will analyze a subset of IMDB's actors, genres, movie actors, and movie ratings data. This dataset comes to us from Kaggle (https://www.kaggle.com/datasets/ashirwadsangwan/imdb-dataset) although we have taken steps to pull this data into a publis s3 bucket: \n",
    "\n",
    "* s3://cis9760-lecture9-movieanalysis/name.basics.tsv ---> (actors)\n",
    "* s3://cis9760-lecture9-movieanalysis/title.basics.tsv ---> (genres)\n",
    "* s3://cis9760-lecture9-movieanalysis/title.principals.tsv ---> (movie actors)\n",
    "* s3://cis9760-lecture9-movieanalysis/title.ratings.tsv ---> (movie ratings)"
   ]
  },
  {
   "cell_type": "markdown",
   "id": "bfb57a80",
   "metadata": {
    "id": "bfb57a80"
   },
   "source": [
    "# Content\n",
    "\n",
    "**<br />name.basics.tsv.gz – Contains the following information for names:**\n",
    "<br />nconst (string) - alphanumeric unique identifier of the name/person.\n",
    "<br />primaryName (string)– name by which the person is most often credited.\n",
    "<br />birthYear – in YYYY format.\n",
    "<br />deathYear – in YYYY format if applicable, else .\n",
    "<br />primaryProfession (array of strings)– the top-3 professions of the person.\n",
    "<br />knownForTitles (array of tconsts) – titles the person is known for.\n",
    "<br/><br/>\n",
    "**<br />title.basics.tsv.gz - Contains the following information for titles:**\n",
    "<br />tconst (string) - alphanumeric unique identifier of the title.\n",
    "<br />titleType (string) – the type/format of the title (e.g. movie, short, tvseries, tvepisode, video, etc).\n",
    "<br />primaryTitle (string) – the more popular title / the title used by the filmmakers on promotional materials at the point of release.\n",
    "<br />originalTitle (string) - original title, in the original language.\n",
    "<br />isAdult (boolean) - 0: non-adult title; 1: adult title.\n",
    "<br />startYear (YYYY) – represents the release year of a title. In the case of TV Series, it is the series start year.\n",
    "<br />endYear (YYYY) – TV Series end year. for all other title types.\n",
    "<br />runtimeMinutes – primary runtime of the title, in minutes.\n",
    "<br />genres (string array) – includes up to three genres associated with the title.\n",
    "<br/><br/>\n",
    "**<br />title.principals.tsv – Contains the principal cast/crew for titles:**\n",
    "<br />tconst (string) - alphanumeric unique identifier of the title.\n",
    "<br />ordering (integer) – a number to uniquely identify rows for a given titleId.\n",
    "<br />nconst (string) - alphanumeric unique identifier of the name/person.\n",
    "<br />category (string) - the category of job that person was in.\n",
    "<br />job (string) - the specific job title if applicable, else.\n",
    "<br />characters (string) - the name of the character played if applicable, else.\n",
    "<br/><br/>\n",
    "**<br />title.ratings.tsv.gz – Contains the IMDb rating and votes information for titles:**\n",
    "<br />tconst (string) - alphanumeric unique identifier of the title.\n",
    "<br />averageRating – weighted average of all the individual user ratings.\n",
    "<br />numVotes - number of votes the title has received."
   ]
  },
  {
   "cell_type": "markdown",
   "id": "0a6597bc",
   "metadata": {
    "id": "0a6597bc"
   },
   "source": [
    "# PART 1 - Installation and Initial Setup"
   ]
  },
  {
   "cell_type": "markdown",
   "id": "ef17e1b3",
   "metadata": {
    "id": "ef17e1b3"
   },
   "source": [
    "Begin by installing the necessary libraries that you may need to conduct your analysis. At the very least, you must install pandas and matplotlib"
   ]
  },
  {
   "cell_type": "code",
   "execution_count": 1,
   "id": "5a20c821",
   "metadata": {
    "id": "5a20c821",
    "outputId": "feafb4b9-07d0-4e96-8b4b-dce7a1088bd1"
   },
   "outputs": [
    {
     "data": {
      "text/html": [
       "Current session configs: <tt>{'conf': {'spark.pyspark.python': 'python3', 'spark.pyspark.virtualenv.enabled': 'true', 'spark.pyspark.virtualenv.type': 'native', 'spark.pyspark.virtualenv.bin.path': '/usr/bin/virtualenv'}, 'kind': 'pyspark'}</tt><br>"
      ],
      "text/plain": [
       "<IPython.core.display.HTML object>"
      ]
     },
     "metadata": {},
     "output_type": "display_data"
    },
    {
     "data": {
      "text/html": [
       "No active sessions."
      ],
      "text/plain": [
       "<IPython.core.display.HTML object>"
      ]
     },
     "metadata": {},
     "output_type": "display_data"
    }
   ],
   "source": [
    "%%info"
   ]
  },
  {
   "cell_type": "markdown",
   "id": "e0baad00",
   "metadata": {
    "id": "e0baad00"
   },
   "source": [
    "Let's install the necessary packages here"
   ]
  },
  {
   "cell_type": "code",
   "execution_count": 2,
   "id": "3a6bef25",
   "metadata": {
    "colab": {
     "referenced_widgets": [
      "332ed53192804b299bee2d8a9d0a5389",
      "",
      "832ab0550cf04d4a8c50ec75e6bb7979"
     ]
    },
    "id": "3a6bef25",
    "outputId": "aa05c715-799d-471d-f71c-9e4f041cc6ee"
   },
   "outputs": [
    {
     "data": {
      "application/vnd.jupyter.widget-view+json": {
       "model_id": "81b08cf4aeb54d4499057d9a9c013364",
       "version_major": 2,
       "version_minor": 0
      },
      "text/plain": [
       "VBox()"
      ]
     },
     "metadata": {},
     "output_type": "display_data"
    },
    {
     "name": "stdout",
     "output_type": "stream",
     "text": [
      "Starting Spark application\n"
     ]
    },
    {
     "data": {
      "text/html": [
       "<table>\n",
       "<tr><th>ID</th><th>YARN Application ID</th><th>Kind</th><th>State</th><th>Spark UI</th><th>Driver log</th><th>Current session?</th></tr><tr><td>1</td><td>application_1669693343333_0002</td><td>pyspark</td><td>idle</td><td><a target=\"_blank\" href=\"http://ip-172-31-40-147.us-east-2.compute.internal:20888/proxy/application_1669693343333_0002/\">Link</a></td><td><a target=\"_blank\" href=\"http://ip-172-31-37-35.us-east-2.compute.internal:8042/node/containerlogs/container_1669693343333_0002_01_000001/livy\">Link</a></td><td>✔</td></tr></table>"
      ],
      "text/plain": [
       "<IPython.core.display.HTML object>"
      ]
     },
     "metadata": {},
     "output_type": "display_data"
    },
    {
     "data": {
      "application/vnd.jupyter.widget-view+json": {
       "model_id": "",
       "version_major": 2,
       "version_minor": 0
      },
      "text/plain": [
       "FloatProgress(value=0.0, bar_style='info', description='Progress:', layout=Layout(height='25px', width='50%'),…"
      ]
     },
     "metadata": {},
     "output_type": "display_data"
    },
    {
     "name": "stdout",
     "output_type": "stream",
     "text": [
      "SparkSession available as 'spark'.\n"
     ]
    },
    {
     "data": {
      "application/vnd.jupyter.widget-view+json": {
       "model_id": "",
       "version_major": 2,
       "version_minor": 0
      },
      "text/plain": [
       "FloatProgress(value=0.0, bar_style='info', description='Progress:', layout=Layout(height='25px', width='50%'),…"
      ]
     },
     "metadata": {},
     "output_type": "display_data"
    },
    {
     "name": "stdout",
     "output_type": "stream",
     "text": [
      "Collecting pandas==1.0.3\n",
      "  Using cached https://files.pythonhosted.org/packages/4a/6a/94b219b8ea0f2d580169e85ed1edc0163743f55aaeca8a44c2e8fc1e344e/pandas-1.0.3-cp37-cp37m-manylinux1_x86_64.whl\n",
      "Requirement already satisfied: pytz>=2017.2 in /usr/local/lib/python3.7/site-packages (from pandas==1.0.3)\n",
      "Requirement already satisfied: numpy>=1.13.3 in /usr/local/lib64/python3.7/site-packages (from pandas==1.0.3)\n",
      "Collecting python-dateutil>=2.6.1 (from pandas==1.0.3)\n",
      "  Using cached https://files.pythonhosted.org/packages/36/7a/87837f39d0296e723bb9b62bbb257d0355c7f6128853c78955f57342a56d/python_dateutil-2.8.2-py2.py3-none-any.whl\n",
      "Requirement already satisfied: six>=1.5 in /usr/local/lib/python3.7/site-packages (from python-dateutil>=2.6.1->pandas==1.0.3)\n",
      "Installing collected packages: python-dateutil, pandas\n",
      "Successfully installed pandas-1.0.3 python-dateutil-2.8.2\n",
      "\n",
      "Collecting matplotlib==3.2.1\n",
      "  Using cached https://files.pythonhosted.org/packages/b2/c2/71fcf957710f3ba1f09088b35776a799ba7dd95f7c2b195ec800933b276b/matplotlib-3.2.1-cp37-cp37m-manylinux1_x86_64.whl\n",
      "Requirement already satisfied: python-dateutil>=2.1 in /mnt/tmp/1669695209889-0/lib/python3.7/site-packages (from matplotlib==3.2.1)\n",
      "Collecting pyparsing!=2.0.4,!=2.1.2,!=2.1.6,>=2.0.1 (from matplotlib==3.2.1)\n",
      "  Using cached https://files.pythonhosted.org/packages/6c/10/a7d0fa5baea8fe7b50f448ab742f26f52b80bfca85ac2be9d35cdd9a3246/pyparsing-3.0.9-py3-none-any.whl\n",
      "Collecting cycler>=0.10 (from matplotlib==3.2.1)\n",
      "  Using cached https://files.pythonhosted.org/packages/5c/f9/695d6bedebd747e5eb0fe8fad57b72fdf25411273a39791cde838d5a8f51/cycler-0.11.0-py3-none-any.whl\n",
      "Requirement already satisfied: numpy>=1.11 in /usr/local/lib64/python3.7/site-packages (from matplotlib==3.2.1)\n",
      "Collecting kiwisolver>=1.0.1 (from matplotlib==3.2.1)\n",
      "  Using cached https://files.pythonhosted.org/packages/ab/8f/8dbe2d4efc4c0b08ec67d6efb7cc31fbfd688c80afad85f65980633b0d37/kiwisolver-1.4.4-cp37-cp37m-manylinux_2_5_x86_64.manylinux1_x86_64.whl\n",
      "Requirement already satisfied: six>=1.5 in /usr/local/lib/python3.7/site-packages (from python-dateutil>=2.1->matplotlib==3.2.1)\n",
      "Collecting typing-extensions; python_version < \"3.8\" (from kiwisolver>=1.0.1->matplotlib==3.2.1)\n",
      "  Using cached https://files.pythonhosted.org/packages/0b/8e/f1a0a5a76cfef77e1eb6004cb49e5f8d72634da638420b9ea492ce8305e8/typing_extensions-4.4.0-py3-none-any.whl\n",
      "Installing collected packages: pyparsing, cycler, typing-extensions, kiwisolver, matplotlib\n",
      "Successfully installed cycler-0.11.0 kiwisolver-1.4.4 matplotlib-3.2.1 pyparsing-3.0.9 typing-extensions-4.4.0"
     ]
    }
   ],
   "source": [
    "sc.install_pypi_package(\"pandas==1.0.3\")\n",
    "sc.install_pypi_package(\"matplotlib==3.2.1\")"
   ]
  },
  {
   "cell_type": "markdown",
   "id": "92f337f1",
   "metadata": {
    "id": "92f337f1"
   },
   "source": [
    "Now, import the installed packages from the previous block below."
   ]
  },
  {
   "cell_type": "code",
   "execution_count": 3,
   "id": "b527ed37",
   "metadata": {
    "colab": {
     "referenced_widgets": [
      "d503eae7be4c48c680320d493fa09198",
      "",
      "d786974dc5024d0ea335db1d8a8bcf0b"
     ]
    },
    "id": "b527ed37",
    "outputId": "3b5c27a6-6c9d-4d8f-b81a-19128a1c8196"
   },
   "outputs": [
    {
     "data": {
      "application/vnd.jupyter.widget-view+json": {
       "model_id": "d896f0e58ba440bda59639bf872849b2",
       "version_major": 2,
       "version_minor": 0
      },
      "text/plain": [
       "VBox()"
      ]
     },
     "metadata": {},
     "output_type": "display_data"
    },
    {
     "data": {
      "application/vnd.jupyter.widget-view+json": {
       "model_id": "",
       "version_major": 2,
       "version_minor": 0
      },
      "text/plain": [
       "FloatProgress(value=0.0, bar_style='info', description='Progress:', layout=Layout(height='25px', width='50%'),…"
      ]
     },
     "metadata": {},
     "output_type": "display_data"
    }
   ],
   "source": [
    "import pandas as pd\n",
    "import matplotlib.pyplot as plt\n",
    "import matplotlib"
   ]
  },
  {
   "cell_type": "markdown",
   "id": "9b2f109d",
   "metadata": {
    "id": "9b2f109d"
   },
   "source": [
    "# Loading Data"
   ]
  },
  {
   "cell_type": "markdown",
   "id": "966aba52",
   "metadata": {
    "id": "966aba52"
   },
   "source": [
    "Load all data from S3 into a Spark dataframe object "
   ]
  },
  {
   "cell_type": "code",
   "execution_count": 4,
   "id": "f5074486",
   "metadata": {
    "colab": {
     "referenced_widgets": [
      "5431dda6542f46eaaa337a8e6d20183d",
      "",
      "cdbeba5f66d4446eaa405ea5eed02946"
     ]
    },
    "id": "f5074486",
    "outputId": "b1a12167-dad5-4310-c94c-fbab54e5bc7d",
    "scrolled": true
   },
   "outputs": [
    {
     "data": {
      "application/vnd.jupyter.widget-view+json": {
       "model_id": "bcc2a578f87c48689cc5da7c2f3a4f47",
       "version_major": 2,
       "version_minor": 0
      },
      "text/plain": [
       "VBox()"
      ]
     },
     "metadata": {},
     "output_type": "display_data"
    },
    {
     "data": {
      "application/vnd.jupyter.widget-view+json": {
       "model_id": "",
       "version_major": 2,
       "version_minor": 0
      },
      "text/plain": [
       "FloatProgress(value=0.0, bar_style='info', description='Progress:', layout=Layout(height='25px', width='50%'),…"
      ]
     },
     "metadata": {},
     "output_type": "display_data"
    }
   ],
   "source": [
    "actors_df = spark.read.csv('s3://cis9760-lecture9-movieanalysis/name.basics.tsv', sep=r'\\t', header='true')\n",
    "genre_df = spark.read.csv('s3://cis9760-lecture9-movieanalysis/title.basics.tsv', header='true', sep=r'\\t')\n",
    "movie_actors_df = spark.read.csv('s3://cis9760-lecture9-movieanalysis/title.principals.tsv', sep=r'\\t', header='true')\n",
    "movie_rating_df = spark.read.csv('s3://cis9760-lecture9-movieanalysis/title.ratings.tsv', sep=r'\\t', header=True)\n"
   ]
  },
  {
   "cell_type": "markdown",
   "id": "765abec6",
   "metadata": {
    "id": "765abec6"
   },
   "source": [
    "## Actors"
   ]
  },
  {
   "cell_type": "markdown",
   "id": "6bd08dc9",
   "metadata": {
    "id": "6bd08dc9"
   },
   "source": [
    "Display the schema below:"
   ]
  },
  {
   "cell_type": "code",
   "execution_count": 5,
   "id": "1eecdfcb",
   "metadata": {
    "colab": {
     "referenced_widgets": [
      "28126b77c9a74b2b8acf2679912f4d3b",
      "",
      "83162017fb2742be9afd45c50321aed7"
     ]
    },
    "id": "1eecdfcb",
    "outputId": "24efddc8-0df3-441e-81dc-1d148c7414f4"
   },
   "outputs": [
    {
     "data": {
      "application/vnd.jupyter.widget-view+json": {
       "model_id": "55ae7576354c4592a8c06b20d91a89ec",
       "version_major": 2,
       "version_minor": 0
      },
      "text/plain": [
       "VBox()"
      ]
     },
     "metadata": {},
     "output_type": "display_data"
    },
    {
     "data": {
      "application/vnd.jupyter.widget-view+json": {
       "model_id": "",
       "version_major": 2,
       "version_minor": 0
      },
      "text/plain": [
       "FloatProgress(value=0.0, bar_style='info', description='Progress:', layout=Layout(height='25px', width='50%'),…"
      ]
     },
     "metadata": {},
     "output_type": "display_data"
    },
    {
     "name": "stdout",
     "output_type": "stream",
     "text": [
      "root\n",
      " |-- nconst: string (nullable = true)\n",
      " |-- primaryName: string (nullable = true)\n",
      " |-- birthYear: string (nullable = true)\n",
      " |-- deathYear: string (nullable = true)\n",
      " |-- primaryProfession: string (nullable = true)\n",
      " |-- knownForTitles: string (nullable = true)"
     ]
    }
   ],
   "source": [
    "actors_df.printSchema()"
   ]
  },
  {
   "cell_type": "markdown",
   "id": "64a82266",
   "metadata": {
    "id": "64a82266"
   },
   "source": [
    "Display the first 5 rows with the following columns:\n",
    "\n",
    "* `primaryName`\n",
    "* `birthYear`\n",
    "* `deathYear`\n",
    "* `knownForTitles`"
   ]
  },
  {
   "cell_type": "code",
   "execution_count": 6,
   "id": "e5d925ee",
   "metadata": {
    "colab": {
     "referenced_widgets": [
      "3b89a7952dcc48779d4f863ca7c35272",
      "",
      "bc691658aefb4869ac5c865ee1ad7b52"
     ]
    },
    "id": "e5d925ee",
    "outputId": "4503ac42-bc91-4e4d-8ca5-91e44d706f94"
   },
   "outputs": [
    {
     "data": {
      "application/vnd.jupyter.widget-view+json": {
       "model_id": "2d3c10f15d9b4058a3bdd09d4ca35e7a",
       "version_major": 2,
       "version_minor": 0
      },
      "text/plain": [
       "VBox()"
      ]
     },
     "metadata": {},
     "output_type": "display_data"
    },
    {
     "data": {
      "application/vnd.jupyter.widget-view+json": {
       "model_id": "",
       "version_major": 2,
       "version_minor": 0
      },
      "text/plain": [
       "FloatProgress(value=0.0, bar_style='info', description='Progress:', layout=Layout(height='25px', width='50%'),…"
      ]
     },
     "metadata": {},
     "output_type": "display_data"
    },
    {
     "name": "stdout",
     "output_type": "stream",
     "text": [
      "+---------------+---------+---------+--------------------+\n",
      "|    primaryName|birthYear|deathYear|      knownForTitles|\n",
      "+---------------+---------+---------+--------------------+\n",
      "|   Fred Astaire|     1899|     1987|tt0050419,tt00531...|\n",
      "|  Lauren Bacall|     1924|     2014|tt0071877,tt01170...|\n",
      "|Brigitte Bardot|     1934|       \\N|tt0054452,tt00491...|\n",
      "|   John Belushi|     1949|     1982|tt0077975,tt00725...|\n",
      "| Ingmar Bergman|     1918|     2007|tt0069467,tt00509...|\n",
      "+---------------+---------+---------+--------------------+\n",
      "only showing top 5 rows"
     ]
    }
   ],
   "source": [
    "#actors_df.show(5) --> shows everything\n",
    "actors_df.select(\"primaryName\",\"birthYear\",\"deathYear\",\"knownForTitles\").show(5)"
   ]
  },
  {
   "cell_type": "markdown",
   "id": "51442d1c",
   "metadata": {
    "id": "51442d1c"
   },
   "source": [
    "## Genres"
   ]
  },
  {
   "cell_type": "markdown",
   "id": "0c2b583c",
   "metadata": {
    "id": "0c2b583c"
   },
   "source": [
    "Display the first 10 rows with the following columns:\n",
    "    \n",
    "* `titleType`\n",
    "* `primaryTitle`\n",
    "* `genres`"
   ]
  },
  {
   "cell_type": "code",
   "execution_count": 7,
   "id": "391cdac2",
   "metadata": {
    "colab": {
     "referenced_widgets": [
      "3e49db05b0204fe5be500dc42087ccc4",
      "",
      "7be3327981fb412e91d785c4afdc9790"
     ]
    },
    "id": "391cdac2",
    "outputId": "10e79d44-f93e-4063-b699-f8b93215a327",
    "scrolled": false
   },
   "outputs": [
    {
     "data": {
      "application/vnd.jupyter.widget-view+json": {
       "model_id": "131d2e72fcdb4849b944ba3dee2a4ee2",
       "version_major": 2,
       "version_minor": 0
      },
      "text/plain": [
       "VBox()"
      ]
     },
     "metadata": {},
     "output_type": "display_data"
    },
    {
     "data": {
      "application/vnd.jupyter.widget-view+json": {
       "model_id": "",
       "version_major": 2,
       "version_minor": 0
      },
      "text/plain": [
       "FloatProgress(value=0.0, bar_style='info', description='Progress:', layout=Layout(height='25px', width='50%'),…"
      ]
     },
     "metadata": {},
     "output_type": "display_data"
    },
    {
     "name": "stdout",
     "output_type": "stream",
     "text": [
      "+---------+--------------------+--------------------+\n",
      "|titleType|        primaryTitle|              genres|\n",
      "+---------+--------------------+--------------------+\n",
      "|    short|          Carmencita|   Documentary,Short|\n",
      "|    short|Le clown et ses c...|     Animation,Short|\n",
      "|    short|      Pauvre Pierrot|Animation,Comedy,...|\n",
      "|    short|         Un bon bock|     Animation,Short|\n",
      "|    short|    Blacksmith Scene|        Comedy,Short|\n",
      "|    short|   Chinese Opium Den|               Short|\n",
      "|    short|Corbett and Court...|         Short,Sport|\n",
      "|    short|Edison Kinetoscop...|   Documentary,Short|\n",
      "|    movie|          Miss Jerry|             Romance|\n",
      "|    short| Exiting the Factory|   Documentary,Short|\n",
      "+---------+--------------------+--------------------+\n",
      "only showing top 10 rows"
     ]
    }
   ],
   "source": [
    "genre_df.select(\"titleType\",\"primaryTitle\",\"genres\").show(10)"
   ]
  },
  {
   "cell_type": "markdown",
   "id": "c35ce504",
   "metadata": {
    "id": "c35ce504"
   },
   "source": [
    "Display the unique categories below:"
   ]
  },
  {
   "cell_type": "code",
   "execution_count": 8,
   "id": "5128f46d",
   "metadata": {
    "colab": {
     "referenced_widgets": [
      "4619537e680545ae9f6595b18ded1a4b",
      "",
      "3f2064af9ac646fd982e7939d7d47c7d"
     ]
    },
    "id": "5128f46d",
    "outputId": "7c5f391d-dc3f-4b7b-c0b1-f21467b46105",
    "scrolled": false
   },
   "outputs": [
    {
     "data": {
      "application/vnd.jupyter.widget-view+json": {
       "model_id": "79a082e2fb2d47079b7d71dc8c918e89",
       "version_major": 2,
       "version_minor": 0
      },
      "text/plain": [
       "VBox()"
      ]
     },
     "metadata": {},
     "output_type": "display_data"
    },
    {
     "data": {
      "application/vnd.jupyter.widget-view+json": {
       "model_id": "",
       "version_major": 2,
       "version_minor": 0
      },
      "text/plain": [
       "FloatProgress(value=0.0, bar_style='info', description='Progress:', layout=Layout(height='25px', width='50%'),…"
      ]
     },
     "metadata": {},
     "output_type": "display_data"
    },
    {
     "name": "stdout",
     "output_type": "stream",
     "text": [
      "+------------+\n",
      "|   titleType|\n",
      "+------------+\n",
      "|    tvSeries|\n",
      "|tvMiniSeries|\n",
      "|       movie|\n",
      "|   videoGame|\n",
      "|   tvSpecial|\n",
      "|       video|\n",
      "|     tvMovie|\n",
      "|   tvEpisode|\n",
      "|     tvShort|\n",
      "|       short|\n",
      "+------------+"
     ]
    }
   ],
   "source": [
    "genre_df.select(\"titleType\").distinct().show()"
   ]
  },
  {
   "cell_type": "markdown",
   "id": "4a7a6cce",
   "metadata": {
    "id": "4a7a6cce"
   },
   "source": [
    "Display the schema below:"
   ]
  },
  {
   "cell_type": "code",
   "execution_count": 9,
   "id": "ea93031e",
   "metadata": {
    "colab": {
     "referenced_widgets": [
      "90bc81c4204345f4af43e512ed0234ea",
      "",
      "1ef572ab32ae429fab442f98ae74b629"
     ]
    },
    "id": "ea93031e",
    "outputId": "ed0fd3a5-e552-4892-ef82-775407435974"
   },
   "outputs": [
    {
     "data": {
      "application/vnd.jupyter.widget-view+json": {
       "model_id": "b66a38fbcb9b451f97d6bc78bf19ff5d",
       "version_major": 2,
       "version_minor": 0
      },
      "text/plain": [
       "VBox()"
      ]
     },
     "metadata": {},
     "output_type": "display_data"
    },
    {
     "data": {
      "application/vnd.jupyter.widget-view+json": {
       "model_id": "",
       "version_major": 2,
       "version_minor": 0
      },
      "text/plain": [
       "FloatProgress(value=0.0, bar_style='info', description='Progress:', layout=Layout(height='25px', width='50%'),…"
      ]
     },
     "metadata": {},
     "output_type": "display_data"
    },
    {
     "name": "stdout",
     "output_type": "stream",
     "text": [
      "root\n",
      " |-- tconst: string (nullable = true)\n",
      " |-- titleType: string (nullable = true)\n",
      " |-- primaryTitle: string (nullable = true)\n",
      " |-- originalTitle: string (nullable = true)\n",
      " |-- isAdult: string (nullable = true)\n",
      " |-- startYear: string (nullable = true)\n",
      " |-- endYear: string (nullable = true)\n",
      " |-- runtimeMinutes: string (nullable = true)\n",
      " |-- genres: string (nullable = true)"
     ]
    }
   ],
   "source": [
    "genre_df.printSchema()"
   ]
  },
  {
   "cell_type": "markdown",
   "id": "fa706ee4",
   "metadata": {
    "id": "fa706ee4"
   },
   "source": [
    "## Movie Actors"
   ]
  },
  {
   "cell_type": "markdown",
   "id": "32f14042",
   "metadata": {
    "id": "32f14042"
   },
   "source": [
    "Display the schema below:"
   ]
  },
  {
   "cell_type": "code",
   "execution_count": 10,
   "id": "4571eb2f",
   "metadata": {
    "colab": {
     "referenced_widgets": [
      "62f67798f3164b0cb7609c3519c0fcd6",
      "",
      "100c9ffd97e24d75b1126c6807dd6977"
     ]
    },
    "id": "4571eb2f",
    "outputId": "ea4bce43-5e12-4b46-ba94-10889209282f",
    "scrolled": false
   },
   "outputs": [
    {
     "data": {
      "application/vnd.jupyter.widget-view+json": {
       "model_id": "6b2a422c40114c9288df0ac6657f4eba",
       "version_major": 2,
       "version_minor": 0
      },
      "text/plain": [
       "VBox()"
      ]
     },
     "metadata": {},
     "output_type": "display_data"
    },
    {
     "data": {
      "application/vnd.jupyter.widget-view+json": {
       "model_id": "",
       "version_major": 2,
       "version_minor": 0
      },
      "text/plain": [
       "FloatProgress(value=0.0, bar_style='info', description='Progress:', layout=Layout(height='25px', width='50%'),…"
      ]
     },
     "metadata": {},
     "output_type": "display_data"
    },
    {
     "name": "stdout",
     "output_type": "stream",
     "text": [
      "root\n",
      " |-- tconst: string (nullable = true)\n",
      " |-- ordering: string (nullable = true)\n",
      " |-- nconst: string (nullable = true)\n",
      " |-- category: string (nullable = true)\n",
      " |-- job: string (nullable = true)\n",
      " |-- characters: string (nullable = true)"
     ]
    }
   ],
   "source": [
    "movie_actors_df.printSchema()"
   ]
  },
  {
   "cell_type": "markdown",
   "id": "b08eb2d6",
   "metadata": {
    "id": "b08eb2d6"
   },
   "source": [
    "Display the first 10 rows below"
   ]
  },
  {
   "cell_type": "code",
   "execution_count": 11,
   "id": "f1bb4d2e",
   "metadata": {
    "colab": {
     "referenced_widgets": [
      "b3bd5b8e09ac4f94b1b699adfb9ee4da",
      "",
      "50df5dcbabc54b699449369cbcaaeb7e"
     ]
    },
    "id": "f1bb4d2e",
    "outputId": "a1bd055d-5b82-4f61-ad1c-acbba4d7c4e3"
   },
   "outputs": [
    {
     "data": {
      "application/vnd.jupyter.widget-view+json": {
       "model_id": "7f8d054abb22496cbb48b8f15a57e52e",
       "version_major": 2,
       "version_minor": 0
      },
      "text/plain": [
       "VBox()"
      ]
     },
     "metadata": {},
     "output_type": "display_data"
    },
    {
     "data": {
      "application/vnd.jupyter.widget-view+json": {
       "model_id": "",
       "version_major": 2,
       "version_minor": 0
      },
      "text/plain": [
       "FloatProgress(value=0.0, bar_style='info', description='Progress:', layout=Layout(height='25px', width='50%'),…"
      ]
     },
     "metadata": {},
     "output_type": "display_data"
    },
    {
     "name": "stdout",
     "output_type": "stream",
     "text": [
      "+---------+--------+---------+---------------+--------------------+-----------+\n",
      "|   tconst|ordering|   nconst|       category|                 job| characters|\n",
      "+---------+--------+---------+---------------+--------------------+-----------+\n",
      "|tt0000001|       1|nm1588970|           self|                  \\N|[\"Herself\"]|\n",
      "|tt0000001|       2|nm0005690|       director|                  \\N|         \\N|\n",
      "|tt0000001|       3|nm0374658|cinematographer|director of photo...|         \\N|\n",
      "|tt0000002|       1|nm0721526|       director|                  \\N|         \\N|\n",
      "|tt0000002|       2|nm1335271|       composer|                  \\N|         \\N|\n",
      "|tt0000003|       1|nm0721526|       director|                  \\N|         \\N|\n",
      "|tt0000003|       2|nm5442194|       producer|            producer|         \\N|\n",
      "|tt0000003|       3|nm1335271|       composer|                  \\N|         \\N|\n",
      "|tt0000003|       4|nm5442200|         editor|                  \\N|         \\N|\n",
      "|tt0000004|       1|nm0721526|       director|                  \\N|         \\N|\n",
      "+---------+--------+---------+---------------+--------------------+-----------+\n",
      "only showing top 10 rows"
     ]
    }
   ],
   "source": [
    "movie_actors_df.show(10)"
   ]
  },
  {
   "cell_type": "markdown",
   "id": "e063e804",
   "metadata": {
    "id": "e063e804"
   },
   "source": [
    "## Movie Ratings"
   ]
  },
  {
   "cell_type": "markdown",
   "id": "8d9dbbf2",
   "metadata": {
    "id": "8d9dbbf2"
   },
   "source": [
    "Display the schema below:"
   ]
  },
  {
   "cell_type": "code",
   "execution_count": 12,
   "id": "394297ae",
   "metadata": {
    "colab": {
     "referenced_widgets": [
      "738aa993bad84796bdd7a4992385b937",
      "",
      "449468537346428bafbd0a54f10ed8b9"
     ]
    },
    "id": "394297ae",
    "outputId": "c28fa083-56cc-4d8a-8219-a528c44fd362"
   },
   "outputs": [
    {
     "data": {
      "application/vnd.jupyter.widget-view+json": {
       "model_id": "663835311a734bbfba22ad2d455442d2",
       "version_major": 2,
       "version_minor": 0
      },
      "text/plain": [
       "VBox()"
      ]
     },
     "metadata": {},
     "output_type": "display_data"
    },
    {
     "data": {
      "application/vnd.jupyter.widget-view+json": {
       "model_id": "",
       "version_major": 2,
       "version_minor": 0
      },
      "text/plain": [
       "FloatProgress(value=0.0, bar_style='info', description='Progress:', layout=Layout(height='25px', width='50%'),…"
      ]
     },
     "metadata": {},
     "output_type": "display_data"
    },
    {
     "name": "stdout",
     "output_type": "stream",
     "text": [
      "root\n",
      " |-- tconst: string (nullable = true)\n",
      " |-- averageRating: string (nullable = true)\n",
      " |-- numVotes: string (nullable = true)"
     ]
    }
   ],
   "source": [
    "movie_rating_df.printSchema()"
   ]
  },
  {
   "cell_type": "markdown",
   "id": "a7e38610",
   "metadata": {
    "id": "a7e38610"
   },
   "source": [
    "Display the first 10 rows in a descending order by the number of votes"
   ]
  },
  {
   "cell_type": "code",
   "execution_count": 13,
   "id": "95d90d02",
   "metadata": {
    "colab": {
     "referenced_widgets": [
      "a177fe37cd5a464db929cedca091936f",
      "",
      "57c65a528ff446f986a4c02a1c2aed4e"
     ]
    },
    "id": "95d90d02",
    "outputId": "d3273932-ee10-42ab-f670-0d31c7aa2bf0"
   },
   "outputs": [
    {
     "data": {
      "application/vnd.jupyter.widget-view+json": {
       "model_id": "2826ed9d98df4861b1828f406ce31981",
       "version_major": 2,
       "version_minor": 0
      },
      "text/plain": [
       "VBox()"
      ]
     },
     "metadata": {},
     "output_type": "display_data"
    },
    {
     "data": {
      "application/vnd.jupyter.widget-view+json": {
       "model_id": "",
       "version_major": 2,
       "version_minor": 0
      },
      "text/plain": [
       "FloatProgress(value=0.0, bar_style='info', description='Progress:', layout=Layout(height='25px', width='50%'),…"
      ]
     },
     "metadata": {},
     "output_type": "display_data"
    },
    {
     "name": "stdout",
     "output_type": "stream",
     "text": [
      "+---------+-------------+--------+\n",
      "|   tconst|averageRating|numVotes|\n",
      "+---------+-------------+--------+\n",
      "|tt7430722|          6.8|    9999|\n",
      "|tt4445154|          8.1|    9997|\n",
      "|tt2229907|          6.3|    9996|\n",
      "|tt0294097|          8.0|    9994|\n",
      "|tt0264734|          6.5|    9993|\n",
      "|tt8860450|          6.3|    9991|\n",
      "|tt2032572|          5.2|    9991|\n",
      "|tt7201150|          8.5|     999|\n",
      "|tt7508752|          7.9|     999|\n",
      "|tt4082482|          6.8|     999|\n",
      "+---------+-------------+--------+\n",
      "only showing top 10 rows"
     ]
    }
   ],
   "source": [
    "from pyspark.sql.functions import col\n",
    "movie_rating_df.sort(col(\"numVotes\").desc()).show(10)\n",
    "#movie_rating_df.show(10)"
   ]
  },
  {
   "cell_type": "markdown",
   "id": "dc6beb73",
   "metadata": {
    "id": "dc6beb73"
   },
   "source": [
    "# Overview of Data"
   ]
  },
  {
   "cell_type": "markdown",
   "id": "6349d83b",
   "metadata": {
    "id": "6349d83b"
   },
   "source": [
    "Display the number of rows and columns in each dataFrame object."
   ]
  },
  {
   "cell_type": "code",
   "execution_count": 14,
   "id": "c085e8f6",
   "metadata": {
    "colab": {
     "referenced_widgets": [
      "08c86c73fb544c319039d6e1ebe3b418",
      "",
      "460c0a0877ad427fb9c33be19e456d27"
     ]
    },
    "id": "c085e8f6",
    "outputId": "432706e2-34e6-4270-ac08-8ec94b4d125f",
    "scrolled": true
   },
   "outputs": [
    {
     "data": {
      "application/vnd.jupyter.widget-view+json": {
       "model_id": "489c53c8de564621871bfc3c093dcb63",
       "version_major": 2,
       "version_minor": 0
      },
      "text/plain": [
       "VBox()"
      ]
     },
     "metadata": {},
     "output_type": "display_data"
    },
    {
     "data": {
      "application/vnd.jupyter.widget-view+json": {
       "model_id": "",
       "version_major": 2,
       "version_minor": 0
      },
      "text/plain": [
       "FloatProgress(value=0.0, bar_style='info', description='Progress:', layout=Layout(height='25px', width='50%'),…"
      ]
     },
     "metadata": {},
     "output_type": "display_data"
    },
    {
     "name": "stdout",
     "output_type": "stream",
     "text": [
      "Number of columns in Actors table: 6\n",
      "Number of rows in Actors table: 9706922\n",
      "\n",
      "Number of columns in Genres table: 9\n",
      "Number of rows in Genres table: 6321302\n",
      "\n",
      "Number of columns in Movie Actors table: 6\n",
      "Number of rows in Movie Actors table: 36468817\n",
      "\n",
      "Number of columns in Movie Ratings table: 3\n",
      "Number of rows in Movie Ratings table: 993153"
     ]
    }
   ],
   "source": [
    "print(f\"Number of columns in Actors table: {len(actors_df.dtypes)}\")\n",
    "print(f\"Number of rows in Actors table: {actors_df.count()}\\n\")\n",
    "\n",
    "print(f\"Number of columns in Genres table: {len(genre_df.dtypes)}\")\n",
    "print(f\"Number of rows in Genres table: {genre_df.count()}\\n\")\n",
    "\n",
    "print(f\"Number of columns in Movie Actors table: {len(movie_actors_df.dtypes)}\")\n",
    "print(f\"Number of rows in Movie Actors table: {movie_actors_df.count()}\\n\")\n",
    "\n",
    "print(f\"Number of columns in Movie Ratings table: {len(movie_rating_df.dtypes)}\")\n",
    "print(f\"Number of rows in Movie Ratings table: {movie_rating_df.count()}\")"
   ]
  },
  {
   "cell_type": "markdown",
   "id": "689e09d5",
   "metadata": {
    "id": "689e09d5"
   },
   "source": [
    "# PART 2 - Analyzing Genres"
   ]
  },
  {
   "cell_type": "markdown",
   "id": "bce79899",
   "metadata": {
    "id": "bce79899"
   },
   "source": [
    "Let's now answer this question: how many unique genres are represented in this dataset?\n",
    "\n",
    "Essentially, we have the genres per movie as a list - this is useful to quickly see what each movie might be represented as but it is difficult to easily answer questions such as:\n",
    "\n",
    "* How many movies are categorized as Comedy, for instance?\n",
    "* What are the top 20 most popular genres available?"
   ]
  },
  {
   "cell_type": "markdown",
   "id": "3f5ea0ad",
   "metadata": {
    "id": "3f5ea0ad"
   },
   "source": [
    "## Association Table\n",
    "\n",
    "We need to \"break out\" these genres from the tconst? One common approach to take is to build an association table mapping a single tconst multiple times to each distinct genre.\n",
    "\n",
    "For instance, given the following:\n",
    "\n",
    "\n",
    "| tconst   | titleType  |genres |\n",
    "|----------|------------|-------|\n",
    "| abcd123  | XXX        |a,b,c  |\n",
    "\n",
    "We would like to derive something like:\n",
    "\n",
    "| tconst   |  titleType |genre |\n",
    "|----------|------------|------|\n",
    "| abcd123  | XXX        |a     |\n",
    "| abcd123  | XXX        |b     |\n",
    "| abcd123  | XXX        |c     |\n",
    "\n",
    "\n",
    "What this does is allow us to then perform a myriad of rollups and other analysis on this association table which can aid us in answering the questions asked above.\n",
    "\n",
    "Implement the code necessary to derive the table described from the data set"
   ]
  },
  {
   "cell_type": "code",
   "execution_count": 15,
   "id": "61349598",
   "metadata": {
    "colab": {
     "referenced_widgets": [
      "b078c3a42a124650905fb3347cca8dd6",
      "",
      "1386f5d1da0b44babdeb631bbd5cf598"
     ]
    },
    "id": "61349598",
    "outputId": "04cabb74-4092-4f05-f99b-3ece1837ddc7"
   },
   "outputs": [
    {
     "data": {
      "application/vnd.jupyter.widget-view+json": {
       "model_id": "d3dc5f71570844d591ec53079cc1e872",
       "version_major": 2,
       "version_minor": 0
      },
      "text/plain": [
       "VBox()"
      ]
     },
     "metadata": {},
     "output_type": "display_data"
    },
    {
     "data": {
      "application/vnd.jupyter.widget-view+json": {
       "model_id": "",
       "version_major": 2,
       "version_minor": 0
      },
      "text/plain": [
       "FloatProgress(value=0.0, bar_style='info', description='Progress:', layout=Layout(height='25px', width='50%'),…"
      ]
     },
     "metadata": {},
     "output_type": "display_data"
    },
    {
     "name": "stdout",
     "output_type": "stream",
     "text": [
      "+---------+---------+--------------------+\n",
      "|   tconst|titleType|              genres|\n",
      "+---------+---------+--------------------+\n",
      "|tt0000001|    short|   Documentary,Short|\n",
      "|tt0000002|    short|     Animation,Short|\n",
      "|tt0000003|    short|Animation,Comedy,...|\n",
      "|tt0000004|    short|     Animation,Short|\n",
      "|tt0000005|    short|        Comedy,Short|\n",
      "+---------+---------+--------------------+\n",
      "only showing top 5 rows"
     ]
    }
   ],
   "source": [
    "genre_df.select(\"tconst\",\"titleType\", \"genres\").show(5)"
   ]
  },
  {
   "cell_type": "markdown",
   "id": "3f27ead6",
   "metadata": {
    "id": "3f27ead6"
   },
   "source": [
    "Display the first 10 rows of your association table below"
   ]
  },
  {
   "cell_type": "code",
   "execution_count": 16,
   "id": "209a9abd",
   "metadata": {
    "colab": {
     "referenced_widgets": [
      "02ab8ef1429e4772a9cd20b171b2973e",
      "",
      "9581b5eec325444c82f6582cf8a7c803"
     ]
    },
    "id": "209a9abd",
    "outputId": "a55676d0-f96c-4a32-f446-77c962a413d0"
   },
   "outputs": [
    {
     "data": {
      "application/vnd.jupyter.widget-view+json": {
       "model_id": "9560ae383dbe480aabd332953d5731ea",
       "version_major": 2,
       "version_minor": 0
      },
      "text/plain": [
       "VBox()"
      ]
     },
     "metadata": {},
     "output_type": "display_data"
    },
    {
     "data": {
      "application/vnd.jupyter.widget-view+json": {
       "model_id": "",
       "version_major": 2,
       "version_minor": 0
      },
      "text/plain": [
       "FloatProgress(value=0.0, bar_style='info', description='Progress:', layout=Layout(height='25px', width='50%'),…"
      ]
     },
     "metadata": {},
     "output_type": "display_data"
    },
    {
     "name": "stdout",
     "output_type": "stream",
     "text": [
      "+---------+---------+-----------+\n",
      "|   tconst|titleType|      genre|\n",
      "+---------+---------+-----------+\n",
      "|tt0000001|    short|Documentary|\n",
      "|tt0000001|    short|      Short|\n",
      "|tt0000002|    short|  Animation|\n",
      "|tt0000002|    short|      Short|\n",
      "|tt0000003|    short|  Animation|\n",
      "|tt0000003|    short|     Comedy|\n",
      "|tt0000003|    short|    Romance|\n",
      "|tt0000004|    short|  Animation|\n",
      "|tt0000004|    short|      Short|\n",
      "|tt0000005|    short|     Comedy|\n",
      "+---------+---------+-----------+\n",
      "only showing top 10 rows"
     ]
    }
   ],
   "source": [
    "from pyspark.sql.functions import split, col, explode\n",
    "\n",
    "# pyspark.sql.functions.explode(col) Returns a new row for each element in the given array or map. \n",
    "\n",
    "genre_exploded_df = genre_df.withColumn('genres',explode(split('genres',\",\")))\\\n",
    "    .withColumnRenamed(\"genres\", \"genre\")\n",
    "\n",
    "genre_exploded_df.select(\"tconst\",\"titleType\", \"genre\").show(10)"
   ]
  },
  {
   "cell_type": "markdown",
   "id": "28a6cb33",
   "metadata": {
    "id": "28a6cb33"
   },
   "source": [
    "## Total Unique Genres"
   ]
  },
  {
   "cell_type": "markdown",
   "id": "3da774ae",
   "metadata": {
    "id": "3da774ae"
   },
   "source": [
    "**What is the total number of unique genres available in the movie category?**"
   ]
  },
  {
   "cell_type": "code",
   "execution_count": 17,
   "id": "4e41deb8",
   "metadata": {
    "colab": {
     "referenced_widgets": [
      "10d90d264154439fb904723183c4cca2",
      "",
      "54c28cc0119b4985a17e880d7748576c"
     ]
    },
    "id": "4e41deb8",
    "outputId": "54bfddc7-2f5f-43af-8aa3-ee4c84a74d25",
    "scrolled": true
   },
   "outputs": [
    {
     "data": {
      "application/vnd.jupyter.widget-view+json": {
       "model_id": "e5bca9bbf9f341acb631cb834467ca5d",
       "version_major": 2,
       "version_minor": 0
      },
      "text/plain": [
       "VBox()"
      ]
     },
     "metadata": {},
     "output_type": "display_data"
    },
    {
     "data": {
      "application/vnd.jupyter.widget-view+json": {
       "model_id": "",
       "version_major": 2,
       "version_minor": 0
      },
      "text/plain": [
       "FloatProgress(value=0.0, bar_style='info', description='Progress:', layout=Layout(height='25px', width='50%'),…"
      ]
     },
     "metadata": {},
     "output_type": "display_data"
    },
    {
     "name": "stdout",
     "output_type": "stream",
     "text": [
      "29"
     ]
    }
   ],
   "source": [
    "genre_exploded_df.select(\"genre\")\\\n",
    "    .distinct()\\\n",
    "    .count()"
   ]
  },
  {
   "cell_type": "markdown",
   "id": "a7808ac8",
   "metadata": {
    "id": "a7808ac8"
   },
   "source": [
    "**What are the unique genres available?**"
   ]
  },
  {
   "cell_type": "code",
   "execution_count": 18,
   "id": "1c502d5f",
   "metadata": {
    "colab": {
     "referenced_widgets": [
      "b217001a1d874f6c90ca268d2573ce3d",
      "",
      "3e2ac3c860fe4facb0e2787b47448796"
     ]
    },
    "id": "1c502d5f",
    "outputId": "06ad1950-0d66-4dcb-e050-f129edeb9a93"
   },
   "outputs": [
    {
     "data": {
      "application/vnd.jupyter.widget-view+json": {
       "model_id": "8c6eddd01cab496aa3bb1ea2456ac859",
       "version_major": 2,
       "version_minor": 0
      },
      "text/plain": [
       "VBox()"
      ]
     },
     "metadata": {},
     "output_type": "display_data"
    },
    {
     "data": {
      "application/vnd.jupyter.widget-view+json": {
       "model_id": "",
       "version_major": 2,
       "version_minor": 0
      },
      "text/plain": [
       "FloatProgress(value=0.0, bar_style='info', description='Progress:', layout=Layout(height='25px', width='50%'),…"
      ]
     },
     "metadata": {},
     "output_type": "display_data"
    },
    {
     "name": "stdout",
     "output_type": "stream",
     "text": [
      "+-----------+\n",
      "|genre      |\n",
      "+-----------+\n",
      "|Mystery    |\n",
      "|Musical    |\n",
      "|Sport      |\n",
      "|Action     |\n",
      "|Talk-Show  |\n",
      "|Romance    |\n",
      "|Thriller   |\n",
      "|\\N         |\n",
      "|Reality-TV |\n",
      "|Family     |\n",
      "|Fantasy    |\n",
      "|History    |\n",
      "|Animation  |\n",
      "|Short      |\n",
      "|Film-Noir  |\n",
      "|Sci-Fi     |\n",
      "|News       |\n",
      "|Drama      |\n",
      "|Documentary|\n",
      "|Western    |\n",
      "+-----------+\n",
      "only showing top 20 rows"
     ]
    }
   ],
   "source": [
    "genre_exploded_df.select(\"genre\")\\\n",
    "    .distinct()\\\n",
    "    .show(20, truncate=False)"
   ]
  },
  {
   "cell_type": "markdown",
   "id": "85bae74f",
   "metadata": {
    "id": "85bae74f"
   },
   "source": [
    "**Oops! Something is off!**"
   ]
  },
  {
   "cell_type": "code",
   "execution_count": 19,
   "id": "670fb90f",
   "metadata": {
    "colab": {
     "referenced_widgets": [
      "75eb97ebcc4f4f78a0a72d9507be1c5b",
      "",
      "eb9095332a7a49d1a2f9c07250ce5307"
     ]
    },
    "id": "670fb90f",
    "outputId": "f4b47984-9b7c-47e0-b7f9-2faae2add0c7",
    "scrolled": true
   },
   "outputs": [
    {
     "data": {
      "application/vnd.jupyter.widget-view+json": {
       "model_id": "52925d985262430795cac91d4e9672a2",
       "version_major": 2,
       "version_minor": 0
      },
      "text/plain": [
       "VBox()"
      ]
     },
     "metadata": {},
     "output_type": "display_data"
    },
    {
     "data": {
      "application/vnd.jupyter.widget-view+json": {
       "model_id": "",
       "version_major": 2,
       "version_minor": 0
      },
      "text/plain": [
       "FloatProgress(value=0.0, bar_style='info', description='Progress:', layout=Layout(height='25px', width='50%'),…"
      ]
     },
     "metadata": {},
     "output_type": "display_data"
    },
    {
     "name": "stdout",
     "output_type": "stream",
     "text": [
      "+-----------+\n",
      "|genre      |\n",
      "+-----------+\n",
      "|Mystery    |\n",
      "|Musical    |\n",
      "|Sport      |\n",
      "|Action     |\n",
      "|Talk-Show  |\n",
      "|Romance    |\n",
      "|Thriller   |\n",
      "|Reality-TV |\n",
      "|Family     |\n",
      "|Fantasy    |\n",
      "|History    |\n",
      "|Animation  |\n",
      "|Film-Noir  |\n",
      "|Short      |\n",
      "|Sci-Fi     |\n",
      "|News       |\n",
      "|Drama      |\n",
      "|Documentary|\n",
      "|Western    |\n",
      "|Comedy     |\n",
      "+-----------+\n",
      "only showing top 20 rows"
     ]
    }
   ],
   "source": [
    "from pyspark.sql.functions import split, col, explode\n",
    "nll = '\\\\N'\n",
    "genre_exploded_nNA_df=genre_exploded_df.filter(col(\"genre\") != nll)\n",
    "genre_exploded_nNA_df.select(\"genre\") \\\n",
    "    .distinct() \\\n",
    "    .show(20, truncate=False)"
   ]
  },
  {
   "cell_type": "code",
   "execution_count": 20,
   "id": "379868ed",
   "metadata": {
    "colab": {
     "referenced_widgets": [
      "715d3c0d7b144689b3f62c1851fa4d3b",
      "",
      "1d38281aa8f142c1959b6ad67089d4d1"
     ]
    },
    "id": "379868ed",
    "outputId": "4f5e9549-2f51-454a-f7e2-fca7208975e6"
   },
   "outputs": [
    {
     "data": {
      "application/vnd.jupyter.widget-view+json": {
       "model_id": "8e860c054c36429989493bccfd1c51eb",
       "version_major": 2,
       "version_minor": 0
      },
      "text/plain": [
       "VBox()"
      ]
     },
     "metadata": {},
     "output_type": "display_data"
    },
    {
     "data": {
      "application/vnd.jupyter.widget-view+json": {
       "model_id": "",
       "version_major": 2,
       "version_minor": 0
      },
      "text/plain": [
       "FloatProgress(value=0.0, bar_style='info', description='Progress:', layout=Layout(height='25px', width='50%'),…"
      ]
     },
     "metadata": {},
     "output_type": "display_data"
    },
    {
     "name": "stdout",
     "output_type": "stream",
     "text": [
      "28"
     ]
    }
   ],
   "source": [
    "genre_exploded_nNA_df.select(\"genre\") \\\n",
    "    .distinct() \\\n",
    "    .count()"
   ]
  },
  {
   "cell_type": "markdown",
   "id": "fe9a6b8a",
   "metadata": {
    "id": "fe9a6b8a"
   },
   "source": [
    "## Top Genres by Movies\n",
    "\n",
    "Now let's find the highest rated genres in this dataset by rolling up genres."
   ]
  },
  {
   "cell_type": "markdown",
   "id": "b30e0b96",
   "metadata": {
    "id": "b30e0b96"
   },
   "source": [
    "### Average Rating / Genre"
   ]
  },
  {
   "cell_type": "markdown",
   "id": "59242911",
   "metadata": {
    "id": "59242911"
   },
   "source": [
    "So now, let's unroll our distinct count a bit and display the per average rating value of per genre.\n",
    "\n",
    "The expected output should be:\n",
    "\n",
    "| genre | averageRating |\n",
    "|-------------|------------|\n",
    "| a     | 8.5         |\n",
    "| b     | 6.3         |\n",
    "| c     | 7.2         |\n",
    "\n",
    "Or something to that effect."
   ]
  },
  {
   "cell_type": "markdown",
   "id": "f505b1a2",
   "metadata": {
    "id": "f505b1a2"
   },
   "source": [
    "First, let's join our two dataframes (movie ratings and genres) by tconst"
   ]
  },
  {
   "cell_type": "code",
   "execution_count": 21,
   "id": "9c3390dc",
   "metadata": {
    "colab": {
     "referenced_widgets": [
      "e4f36bc5438e46e78c9b8cd06871fafd",
      "",
      "45718870ea8f49a4baaeded98acf3eb0"
     ]
    },
    "id": "9c3390dc",
    "outputId": "1fbcc74e-3e9a-43fd-ac99-a4c7f9bf4e14",
    "scrolled": true
   },
   "outputs": [
    {
     "data": {
      "application/vnd.jupyter.widget-view+json": {
       "model_id": "0850624bb0ec49bc94398f7955400a92",
       "version_major": 2,
       "version_minor": 0
      },
      "text/plain": [
       "VBox()"
      ]
     },
     "metadata": {},
     "output_type": "display_data"
    },
    {
     "data": {
      "application/vnd.jupyter.widget-view+json": {
       "model_id": "",
       "version_major": 2,
       "version_minor": 0
      },
      "text/plain": [
       "FloatProgress(value=0.0, bar_style='info', description='Progress:', layout=Layout(height='25px', width='50%'),…"
      ]
     },
     "metadata": {},
     "output_type": "display_data"
    },
    {
     "name": "stdout",
     "output_type": "stream",
     "text": [
      "+---------+-------------+\n",
      "|    genre|averageRating|\n",
      "+---------+-------------+\n",
      "|    Drama|          4.2|\n",
      "|    Drama|          4.2|\n",
      "|Biography|          4.1|\n",
      "|    Drama|          4.1|\n",
      "|  History|          4.1|\n",
      "|    Drama|          5.7|\n",
      "|    Drama|          4.6|\n",
      "|  History|          4.6|\n",
      "|Biography|          6.3|\n",
      "|    Drama|          6.3|\n",
      "+---------+-------------+\n",
      "only showing top 10 rows"
     ]
    }
   ],
   "source": [
    "# Join two tables\n",
    "Rating_and_genre_df = genre_exploded_nNA_df.join(movie_rating_df, genre_exploded_nNA_df.tconst == movie_rating_df.tconst, \"inner\")\\\n",
    "    .filter(col(\"titleType\") ==\"movie\")\\\n",
    "    .select(\"genre\", \"averageRating\")\n",
    "Rating_and_genre_df.show(10)"
   ]
  },
  {
   "cell_type": "markdown",
   "id": "5ac38a61",
   "metadata": {
    "id": "5ac38a61"
   },
   "source": [
    "Now, let's aggregate along the averageRating column to get a resultant dataframe that displays average rating per genre."
   ]
  },
  {
   "cell_type": "code",
   "execution_count": 22,
   "id": "7f8424c8",
   "metadata": {
    "colab": {
     "referenced_widgets": [
      "94c292220b0f44bcb79e60c6532b6899",
      "",
      "6607018d8afb4b7a827bc7218abf8d5c"
     ]
    },
    "id": "7f8424c8",
    "outputId": "98e52042-38b4-43f1-9d44-6cf6e691dba4",
    "scrolled": true
   },
   "outputs": [
    {
     "data": {
      "application/vnd.jupyter.widget-view+json": {
       "model_id": "4f461a2c75504428a120687cba1acb11",
       "version_major": 2,
       "version_minor": 0
      },
      "text/plain": [
       "VBox()"
      ]
     },
     "metadata": {},
     "output_type": "display_data"
    },
    {
     "data": {
      "application/vnd.jupyter.widget-view+json": {
       "model_id": "",
       "version_major": 2,
       "version_minor": 0
      },
      "text/plain": [
       "FloatProgress(value=0.0, bar_style='info', description='Progress:', layout=Layout(height='25px', width='50%'),…"
      ]
     },
     "metadata": {},
     "output_type": "display_data"
    },
    {
     "name": "stdout",
     "output_type": "stream",
     "text": [
      "+-----------+-----------------+\n",
      "|genre      |avg_rating       |\n",
      "+-----------+-----------------+\n",
      "|Mystery    |5.940437537126316|\n",
      "|Musical    |6.203246053185319|\n",
      "|Action     |5.718734067904495|\n",
      "|Sport      |6.600145190943391|\n",
      "|Talk-Show  |5.800000190734863|\n",
      "|Romance    |6.125714179294426|\n",
      "|Thriller   |5.625967567519544|\n",
      "|Reality-TV |6.379310377712907|\n",
      "|Family     |6.250560452699635|\n",
      "|Fantasy    |5.924820762891499|\n",
      "|History    |6.822718117193864|\n",
      "|Animation  |6.326203749467441|\n",
      "|Film-Noir  |6.636246780503378|\n",
      "|Short      |7.259999942779541|\n",
      "|Sci-Fi     |5.325150006900168|\n",
      "|News       |7.200916040944689|\n",
      "|Drama      |6.288080211097538|\n",
      "|Documentary|7.245469805371099|\n",
      "|Western    |5.948970991005059|\n",
      "|Comedy     |5.941363107822231|\n",
      "+-----------+-----------------+\n",
      "only showing top 20 rows"
     ]
    }
   ],
   "source": [
    "from pyspark.sql.functions import mean, count, sum, col, max\n",
    "Rating_and_genre_df=Rating_and_genre_df.withColumn(\"averageRating\", col(\"averageRating\").cast(\"float\"))\n",
    "Rating_and_genre_df=Rating_and_genre_df.groupBy(\"genre\").agg(\n",
    "    mean(\"averageRating\").alias(\"avg_rating\"))\n",
    "Rating_and_genre_df.show(20, truncate=False)"
   ]
  },
  {
   "cell_type": "markdown",
   "id": "31bbbe8a",
   "metadata": {
    "id": "31bbbe8a"
   },
   "source": [
    "### Horizontal Bar Chart of Top Genres\n",
    "\n",
    "With this data available, let us now build a barchart of all genres \n",
    "\n",
    "**HINT**: don't forget about the matplotlib magic!\n",
    "\n",
    "```\n",
    "%matplot plt\n",
    "```"
   ]
  },
  {
   "cell_type": "code",
   "execution_count": 23,
   "id": "52189e81",
   "metadata": {
    "colab": {
     "referenced_widgets": [
      "135a0f27e7b8425d8fb4f40a4f9c2e44",
      "",
      "fdc9d4ef88834a26a5ae46aceaddd4ef"
     ]
    },
    "id": "52189e81",
    "outputId": "c76cca0d-7940-4360-a174-45fd0dbefe77"
   },
   "outputs": [
    {
     "data": {
      "application/vnd.jupyter.widget-view+json": {
       "model_id": "4d5c88f9f7454cffa1ef8e5b79d55160",
       "version_major": 2,
       "version_minor": 0
      },
      "text/plain": [
       "VBox()"
      ]
     },
     "metadata": {},
     "output_type": "display_data"
    },
    {
     "data": {
      "application/vnd.jupyter.widget-view+json": {
       "model_id": "",
       "version_major": 2,
       "version_minor": 0
      },
      "text/plain": [
       "FloatProgress(value=0.0, bar_style='info', description='Progress:', layout=Layout(height='25px', width='50%'),…"
      ]
     },
     "metadata": {},
     "output_type": "display_data"
    },
    {
     "name": "stdout",
     "output_type": "stream",
     "text": [
      "+-----------+-----------------+\n",
      "|genre      |avg_rating       |\n",
      "+-----------+-----------------+\n",
      "|Short      |7.259999942779541|\n",
      "|Documentary|7.245469805371099|\n",
      "|News       |7.200916040944689|\n",
      "|Biography  |6.983637643044585|\n",
      "|Game-Show  |6.974999904632568|\n",
      "|History    |6.822718117193864|\n",
      "|Music      |6.752020207214588|\n",
      "|Film-Noir  |6.636246780503378|\n",
      "|Sport      |6.600145190943391|\n",
      "|War        |6.483807036278403|\n",
      "|Reality-TV |6.379310377712907|\n",
      "|Animation  |6.326203749467441|\n",
      "|Drama      |6.288080211097538|\n",
      "|Family     |6.250560452699635|\n",
      "|Musical    |6.203246053185319|\n",
      "|Romance    |6.125714179294426|\n",
      "|Crime      |6.026013333109149|\n",
      "|Western    |5.948970991005059|\n",
      "|Comedy     |5.941363107822231|\n",
      "|Mystery    |5.940437537126316|\n",
      "+-----------+-----------------+\n",
      "only showing top 20 rows"
     ]
    }
   ],
   "source": [
    "Rating_and_genre_sorted_df = Rating_and_genre_df.sort(col(\"avg_rating\").desc()) \n",
    "Rating_and_genre_sorted_df.show(20, truncate=False)"
   ]
  },
  {
   "cell_type": "code",
   "execution_count": 24,
   "id": "2594600c",
   "metadata": {
    "colab": {
     "referenced_widgets": [
      "c789367be111453583552691284663b2",
      "",
      "7be494fdad27463eb95267eaa11bc92d"
     ]
    },
    "id": "2594600c",
    "outputId": "0df60415-6e41-485c-e106-ad6ee374ce44",
    "scrolled": false
   },
   "outputs": [
    {
     "data": {
      "application/vnd.jupyter.widget-view+json": {
       "model_id": "d93a8e83a5104780b043ad3ec595775b",
       "version_major": 2,
       "version_minor": 0
      },
      "text/plain": [
       "VBox()"
      ]
     },
     "metadata": {},
     "output_type": "display_data"
    },
    {
     "data": {
      "application/vnd.jupyter.widget-view+json": {
       "model_id": "",
       "version_major": 2,
       "version_minor": 0
      },
      "text/plain": [
       "FloatProgress(value=0.0, bar_style='info', description='Progress:', layout=Layout(height='25px', width='50%'),…"
      ]
     },
     "metadata": {},
     "output_type": "display_data"
    },
    {
     "data": {
      "image/png": "[encoded data removed]",
      "text/plain": [
       "<IPython.core.display.Image object>"
      ]
     },
     "metadata": {},
     "output_type": "display_data"
    }
   ],
   "source": [
    "Rating_and_genre_pddf = Rating_and_genre_sorted_df.toPandas().sort_values(by=[\"avg_rating\"])\n",
    "Rating_and_genre_pddf.plot(kind=\"barh\", x=\"genre\", figsize=(12,8), color=\"darkviolet\")\n",
    "plt.ylabel(\"Genre\")\n",
    "plt.xlabel(\"Average Rating\")\n",
    "plt.title(\"Top Genres in the Movie Category\")\n",
    "plt.xlim([5, 7.5])\n",
    "%matplot plt "
   ]
  },
  {
   "cell_type": "markdown",
   "id": "0cae0d39",
   "metadata": {
    "id": "0cae0d39"
   },
   "source": [
    "## PART 3 - Analyzing Job Categories"
   ]
  },
  {
   "cell_type": "markdown",
   "id": "79d96276",
   "metadata": {
    "id": "79d96276"
   },
   "source": [
    "## Total Unique Job Categories"
   ]
  },
  {
   "cell_type": "markdown",
   "id": "e7d31372",
   "metadata": {
    "id": "e7d31372"
   },
   "source": [
    "**What is the total number of unique job categories?**"
   ]
  },
  {
   "cell_type": "code",
   "execution_count": 25,
   "id": "d98a0f7e",
   "metadata": {
    "colab": {
     "referenced_widgets": [
      "d8eb6ad8adc5468fba484752bc180137",
      "",
      "8b591ae74b5a41549bf078141cdf25d6"
     ]
    },
    "id": "d98a0f7e",
    "outputId": "4f9a6764-30dc-4013-f443-be4ca8d901bf"
   },
   "outputs": [
    {
     "data": {
      "application/vnd.jupyter.widget-view+json": {
       "model_id": "c8b4f442286f4f02858286aa13b04b65",
       "version_major": 2,
       "version_minor": 0
      },
      "text/plain": [
       "VBox()"
      ]
     },
     "metadata": {},
     "output_type": "display_data"
    },
    {
     "data": {
      "application/vnd.jupyter.widget-view+json": {
       "model_id": "",
       "version_major": 2,
       "version_minor": 0
      },
      "text/plain": [
       "FloatProgress(value=0.0, bar_style='info', description='Progress:', layout=Layout(height='25px', width='50%'),…"
      ]
     },
     "metadata": {},
     "output_type": "display_data"
    },
    {
     "name": "stdout",
     "output_type": "stream",
     "text": [
      "+---------+---------------+\n",
      "|   tconst|       category|\n",
      "+---------+---------------+\n",
      "|tt0000001|           self|\n",
      "|tt0000001|       director|\n",
      "|tt0000001|cinematographer|\n",
      "|tt0000002|       director|\n",
      "|tt0000002|       composer|\n",
      "+---------+---------------+\n",
      "only showing top 5 rows"
     ]
    }
   ],
   "source": [
    "movie_actors_df.select(\"tconst\" ,\"category\").show(5)"
   ]
  },
  {
   "cell_type": "code",
   "execution_count": 26,
   "id": "fca4e545",
   "metadata": {
    "colab": {
     "referenced_widgets": [
      "150d3c28e5a24b26ad424213a6434c40",
      "",
      "11f7712070a54adc99dbeb4cddfaa08c"
     ]
    },
    "id": "fca4e545",
    "outputId": "ad4ca2d1-c00f-49c4-80c3-52e4ece0f63d"
   },
   "outputs": [
    {
     "data": {
      "application/vnd.jupyter.widget-view+json": {
       "model_id": "85b7b74e02274887ac3c716f272ad94f",
       "version_major": 2,
       "version_minor": 0
      },
      "text/plain": [
       "VBox()"
      ]
     },
     "metadata": {},
     "output_type": "display_data"
    },
    {
     "data": {
      "application/vnd.jupyter.widget-view+json": {
       "model_id": "",
       "version_major": 2,
       "version_minor": 0
      },
      "text/plain": [
       "FloatProgress(value=0.0, bar_style='info', description='Progress:', layout=Layout(height='25px', width='50%'),…"
      ]
     },
     "metadata": {},
     "output_type": "display_data"
    },
    {
     "name": "stdout",
     "output_type": "stream",
     "text": [
      "12"
     ]
    }
   ],
   "source": [
    "movie_actors_df.select(\"category\")\\\n",
    "    .distinct()\\\n",
    "    .count()"
   ]
  },
  {
   "cell_type": "markdown",
   "id": "3c19f62b",
   "metadata": {
    "id": "3c19f62b"
   },
   "source": [
    "**What are the unique job categories available?**"
   ]
  },
  {
   "cell_type": "code",
   "execution_count": 27,
   "id": "37eadfcc",
   "metadata": {
    "colab": {
     "referenced_widgets": [
      "f115ba7ed268494eab87b9c1f466a11b",
      "",
      "b41794e62a1545c3adeafbeef466f260"
     ]
    },
    "id": "37eadfcc",
    "outputId": "f9e804da-c7d7-4530-a656-b9e3bf01e849"
   },
   "outputs": [
    {
     "data": {
      "application/vnd.jupyter.widget-view+json": {
       "model_id": "5326c18ecea6400d8610ad3d40d250a4",
       "version_major": 2,
       "version_minor": 0
      },
      "text/plain": [
       "VBox()"
      ]
     },
     "metadata": {},
     "output_type": "display_data"
    },
    {
     "data": {
      "application/vnd.jupyter.widget-view+json": {
       "model_id": "",
       "version_major": 2,
       "version_minor": 0
      },
      "text/plain": [
       "FloatProgress(value=0.0, bar_style='info', description='Progress:', layout=Layout(height='25px', width='50%'),…"
      ]
     },
     "metadata": {},
     "output_type": "display_data"
    },
    {
     "name": "stdout",
     "output_type": "stream",
     "text": [
      "+-------------------+\n",
      "|category           |\n",
      "+-------------------+\n",
      "|actress            |\n",
      "|producer           |\n",
      "|production_designer|\n",
      "|writer             |\n",
      "|actor              |\n",
      "|cinematographer    |\n",
      "|archive_sound      |\n",
      "|archive_footage    |\n",
      "|self               |\n",
      "|editor             |\n",
      "|composer           |\n",
      "|director           |\n",
      "+-------------------+"
     ]
    }
   ],
   "source": [
    "movie_actors_df.select(\"category\")\\\n",
    "    .distinct()\\\n",
    "    .show(truncate=False)"
   ]
  },
  {
   "cell_type": "markdown",
   "id": "59b33bb2",
   "metadata": {
    "id": "59b33bb2"
   },
   "source": [
    "## Top Job Categories"
   ]
  },
  {
   "cell_type": "markdown",
   "id": "7f911dfc",
   "metadata": {
    "id": "7f911dfc"
   },
   "source": [
    "Now let's find the top job categories in this dataset by rolling up categories."
   ]
  },
  {
   "cell_type": "markdown",
   "id": "1c0edd43",
   "metadata": {
    "id": "1c0edd43"
   },
   "source": [
    "### Counts of Titles / Job Category"
   ]
  },
  {
   "cell_type": "markdown",
   "id": "001e3f3c",
   "metadata": {
    "id": "001e3f3c"
   },
   "source": [
    "The expected output should be:\n",
    "\n",
    "| category | count |\n",
    "|-------------|------------|\n",
    "| a     | 15         |\n",
    "| b     | 2          |\n",
    "| c     | 45          |\n",
    "\n",
    "Or something to that effect."
   ]
  },
  {
   "cell_type": "code",
   "execution_count": 28,
   "id": "d6f8d689",
   "metadata": {
    "colab": {
     "referenced_widgets": [
      "7afa2fab870742deafab75f2535866a9",
      "",
      "e8552689d2334d7f805c59af9a8ff6b5"
     ]
    },
    "id": "d6f8d689",
    "outputId": "825a4e16-ce32-46fa-b382-7bbf2a52a3a9"
   },
   "outputs": [
    {
     "data": {
      "application/vnd.jupyter.widget-view+json": {
       "model_id": "e44b71141c544ed1981e9b026aea143f",
       "version_major": 2,
       "version_minor": 0
      },
      "text/plain": [
       "VBox()"
      ]
     },
     "metadata": {},
     "output_type": "display_data"
    },
    {
     "data": {
      "application/vnd.jupyter.widget-view+json": {
       "model_id": "",
       "version_major": 2,
       "version_minor": 0
      },
      "text/plain": [
       "FloatProgress(value=0.0, bar_style='info', description='Progress:', layout=Layout(height='25px', width='50%'),…"
      ]
     },
     "metadata": {},
     "output_type": "display_data"
    },
    {
     "name": "stdout",
     "output_type": "stream",
     "text": [
      "+-------------------+-------+\n",
      "|category           |count  |\n",
      "+-------------------+-------+\n",
      "|actress            |6325097|\n",
      "|producer           |2197866|\n",
      "|production_designer|285924 |\n",
      "|writer             |4811596|\n",
      "|actor              |8493701|\n",
      "|cinematographer    |1300404|\n",
      "|archive_sound      |2143   |\n",
      "|archive_footage    |209035 |\n",
      "|self               |6153089|\n",
      "|editor             |1197669|\n",
      "|composer           |1313187|\n",
      "|director           |4179106|\n",
      "+-------------------+-------+"
     ]
    }
   ],
   "source": [
    "from pyspark.sql.functions import avg, mean, count, sum, col, max\n",
    "movie_actors_df.groupBy(\"category\").agg(\n",
    "    count(\"category\").alias(\"count\"))\\\n",
    "    .show(truncate=False)"
   ]
  },
  {
   "cell_type": "markdown",
   "id": "96ce95b2",
   "metadata": {
    "id": "96ce95b2"
   },
   "source": [
    "### Bar Chart of Top Job Categories\n",
    "\n",
    "With this data available, let us now build a barchart of the top 5 categories. \n",
    "\n",
    "**HINT**: don't forget about the matplotlib magic!\n",
    "\n",
    "```\n",
    "%matplot plt\n",
    "```"
   ]
  },
  {
   "cell_type": "code",
   "execution_count": 29,
   "id": "0af53ede",
   "metadata": {
    "colab": {
     "referenced_widgets": [
      "cdf082dcb73d48f3b22c4406f6b94d1c",
      "",
      "f4d56a674d084e6fb9058bdc20e9e510"
     ]
    },
    "id": "0af53ede",
    "outputId": "187c7caa-2979-4b58-a149-5b2debff17f2",
    "scrolled": true
   },
   "outputs": [
    {
     "data": {
      "application/vnd.jupyter.widget-view+json": {
       "model_id": "aee52d0ef23e42d09465c975fafa3c7b",
       "version_major": 2,
       "version_minor": 0
      },
      "text/plain": [
       "VBox()"
      ]
     },
     "metadata": {},
     "output_type": "display_data"
    },
    {
     "data": {
      "application/vnd.jupyter.widget-view+json": {
       "model_id": "",
       "version_major": 2,
       "version_minor": 0
      },
      "text/plain": [
       "FloatProgress(value=0.0, bar_style='info', description='Progress:', layout=Layout(height='25px', width='50%'),…"
      ]
     },
     "metadata": {},
     "output_type": "display_data"
    },
    {
     "name": "stdout",
     "output_type": "stream",
     "text": [
      "+-------------------+-------+\n",
      "|category           |count  |\n",
      "+-------------------+-------+\n",
      "|actor              |8493701|\n",
      "|actress            |6325097|\n",
      "|self               |6153089|\n",
      "|writer             |4811596|\n",
      "|director           |4179106|\n",
      "|producer           |2197866|\n",
      "|composer           |1313187|\n",
      "|cinematographer    |1300404|\n",
      "|editor             |1197669|\n",
      "|production_designer|285924 |\n",
      "|archive_footage    |209035 |\n",
      "|archive_sound      |2143   |\n",
      "+-------------------+-------+"
     ]
    }
   ],
   "source": [
    "from pyspark.sql.functions import avg, mean, count, sum, col, max\n",
    "category_sorted_df = movie_actors_df.groupBy(\"category\").agg(\n",
    "    count(\"category\").alias(\"count\"))\\\n",
    "    .sort(col(\"count\").desc()) \n",
    "category_sorted_df.show(truncate=False)"
   ]
  },
  {
   "cell_type": "code",
   "execution_count": 30,
   "id": "f397416a",
   "metadata": {
    "colab": {
     "referenced_widgets": [
      "7aa8aa312f764b308fea8dd6abee6866",
      "",
      "01b41299155243728dab2f73dd0fb0ca"
     ]
    },
    "id": "f397416a",
    "outputId": "c3cca9ea-0048-409d-ae89-eea3349774a1",
    "scrolled": true
   },
   "outputs": [
    {
     "data": {
      "application/vnd.jupyter.widget-view+json": {
       "model_id": "52ffe36197e44e418402b2359cec8ce1",
       "version_major": 2,
       "version_minor": 0
      },
      "text/plain": [
       "VBox()"
      ]
     },
     "metadata": {},
     "output_type": "display_data"
    },
    {
     "data": {
      "application/vnd.jupyter.widget-view+json": {
       "model_id": "",
       "version_major": 2,
       "version_minor": 0
      },
      "text/plain": [
       "FloatProgress(value=0.0, bar_style='info', description='Progress:', layout=Layout(height='25px', width='50%'),…"
      ]
     },
     "metadata": {},
     "output_type": "display_data"
    },
    {
     "data": {
      "image/png": "[encoded data removed]",
      "text/plain": [
       "<IPython.core.display.Image object>"
      ]
     },
     "metadata": {},
     "output_type": "display_data"
    }
   ],
   "source": [
    "category_sorted_df.createOrReplaceTempView('Categories')\n",
    "top_5_jobs = spark.sql(\n",
    "'''\n",
    "SELECT *\n",
    "FROM Categories\n",
    "LIMIT 5\n",
    "'''\n",
    ")\n",
    "\n",
    "top_5_jobs.toPandas().plot.bar(x=\"category\", figsize=(12,8), color =\"orange\")\n",
    "plt.title(\"Top Job Categories\")\n",
    "plt.xlabel(\"Job Categories\")\n",
    "plt.ylabel(\"Count\")\n",
    "plt.xticks(rotation=30)\n",
    "%matplot plt"
   ]
  },
  {
   "cell_type": "markdown",
   "id": "c5a31583",
   "metadata": {
    "id": "c5a31583"
   },
   "source": [
    "# PART 4 - Answer to the following questions:"
   ]
  },
  {
   "cell_type": "markdown",
   "id": "76917365",
   "metadata": {
    "id": "76917365"
   },
   "source": [
    "## 1) Find all the \"movies\" featuring \"Johnny Depp\" and \"Helena Bonham Carter\"."
   ]
  },
  {
   "cell_type": "markdown",
   "id": "c4600ef2",
   "metadata": {
    "id": "c4600ef2"
   },
   "source": [
    "First join actors, genres, and movie actors on each other"
   ]
  },
  {
   "cell_type": "code",
   "execution_count": 31,
   "id": "08ceca59",
   "metadata": {
    "colab": {
     "referenced_widgets": [
      "a4f230378ec144eba236921a84b88355",
      "",
      "0486f8fe7a1d4f9784584c6139d03bda"
     ]
    },
    "id": "08ceca59",
    "outputId": "3f21ab04-5b50-4623-a5b3-0d47f41c9fed"
   },
   "outputs": [
    {
     "data": {
      "application/vnd.jupyter.widget-view+json": {
       "model_id": "77e32b0f95ff48cf88335def1b40ad4c",
       "version_major": 2,
       "version_minor": 0
      },
      "text/plain": [
       "VBox()"
      ]
     },
     "metadata": {},
     "output_type": "display_data"
    },
    {
     "data": {
      "application/vnd.jupyter.widget-view+json": {
       "model_id": "",
       "version_major": 2,
       "version_minor": 0
      },
      "text/plain": [
       "FloatProgress(value=0.0, bar_style='info', description='Progress:', layout=Layout(height='25px', width='50%'),…"
      ]
     },
     "metadata": {},
     "output_type": "display_data"
    },
    {
     "name": "stdout",
     "output_type": "stream",
     "text": [
      "+----------------------------------------------+\n",
      "|primaryTitle                                  |\n",
      "+----------------------------------------------+\n",
      "|Dark Shadows                                  |\n",
      "|Sweeney Todd: The Demon Barber of Fleet Street|\n",
      "|Alice Through the Looking Glass               |\n",
      "|Alice in Wonderland                           |\n",
      "|Corpse Bride                                  |\n",
      "|Charlie and the Chocolate Factory             |\n",
      "+----------------------------------------------+"
     ]
    }
   ],
   "source": [
    "#Need to edit actors_df first to expand knownForTitles (array of tconsts)\n",
    "actors_df_expand = actors_df.withColumn('knownForTitles',explode(split('knownForTitles',\",\")))\\\n",
    "    .select(\"nconst\", \"primaryName\", \"knownForTitles\")\n",
    "\n",
    "join_actors_df = actors_df_expand.join(movie_actors_df, on=[\"nconst\"], how=\"inner\")\\\n",
    "    .join(genre_exploded_nNA_df, on=[\"tconst\"], how=\"inner\")\\\n",
    "    .filter(col(\"titleType\") == \"movie\")\\\n",
    "    .select(\"tconst\", \"primaryName\", \"category\", \"primaryTitle\", \"startYear\")\\\n",
    "    .distinct()\n",
    "\n",
    "johnny_depp_df = join_actors_df.filter(col(\"primaryName\") == \"Johnny Depp\")\\\n",
    "                            .select(\"tconst\", \"primaryTitle\")\n",
    "helena_carter_df = join_actors_df.filter(col(\"primaryName\") == \"Helena Bonham Carter\")\\\n",
    "                                .select(\"tconst\", \"primaryTitle\")\n",
    "\n",
    "helena_carter_df.join(johnny_depp_df, on=[\"primaryTitle\"], how=\"inner\")\\\n",
    "                .select(\"primaryTitle\")\\\n",
    "                .show(truncate=False)\n",
    "\n",
    "#Old code\n",
    "#from pyspark.sql.functions import avg, mean, count, sum, col, max\n",
    "#jd_and_hbc_df=join_actors_df.filter((col(\"primaryName\")==\"Johnny Depp\") |\\\n",
    " #                                   (col(\"primaryName\")==\"Helena Bonham Carter\"))\\\n",
    "  #  .groupBy(\"primaryTitle\").agg(count(\"primaryTitle\").alias(\"num_repeats\"))\\\n",
    "   # .filter(col(\"num_repeats\") >1)\\ # if title repeats more than once, both were in the movie\n",
    "    #.select(\"primaryTitle\")\\\n",
    "    #.show(truncate=False)"
   ]
  },
  {
   "cell_type": "markdown",
   "id": "39452206",
   "metadata": {
    "id": "39452206"
   },
   "source": [
    "## 2) Find all the \"movies\" featuring \"Brad Pitt\" after 2010."
   ]
  },
  {
   "cell_type": "code",
   "execution_count": 32,
   "id": "c536eb48",
   "metadata": {
    "colab": {
     "referenced_widgets": [
      "75a3658ec07d4f2f974a703fd658f2d8",
      "",
      "4ae082f829114f6ea50202170c0d8416"
     ]
    },
    "id": "c536eb48",
    "outputId": "d84c0010-85b3-45e6-f26c-7e04d187b412"
   },
   "outputs": [
    {
     "data": {
      "application/vnd.jupyter.widget-view+json": {
       "model_id": "40252934d01e4e87a8bf6793d78f5d63",
       "version_major": 2,
       "version_minor": 0
      },
      "text/plain": [
       "VBox()"
      ]
     },
     "metadata": {},
     "output_type": "display_data"
    },
    {
     "data": {
      "application/vnd.jupyter.widget-view+json": {
       "model_id": "",
       "version_major": 2,
       "version_minor": 0
      },
      "text/plain": [
       "FloatProgress(value=0.0, bar_style='info', description='Progress:', layout=Layout(height='25px', width='50%'),…"
      ]
     },
     "metadata": {},
     "output_type": "display_data"
    },
    {
     "name": "stdout",
     "output_type": "stream",
     "text": [
      "+---------------------------------+---------+\n",
      "|primaryTitle                     |startYear|\n",
      "+---------------------------------+---------+\n",
      "|Babylon                          |2021     |\n",
      "|Irresistible                     |2020     |\n",
      "|Kajillionaire                    |2020     |\n",
      "|Ad Astra                         |2019     |\n",
      "|Once Upon a Time ... in Hollywood|2019     |\n",
      "|The King                         |2019     |\n",
      "|Vice                             |2018     |\n",
      "|War Machine                      |2017     |\n",
      "|Voyage of Time: Life's Journey   |2016     |\n",
      "|Allied                           |2016     |\n",
      "|By the Sea                       |2015     |\n",
      "|Hitting the Apex                 |2015     |\n",
      "|The Big Short                    |2015     |\n",
      "|Fury                             |2014     |\n",
      "|12 Years a Slave                 |2013     |\n",
      "|Kick-Ass 2                       |2013     |\n",
      "|World War Z                      |2013     |\n",
      "|Killing Them Softly              |2012     |\n",
      "|Moneyball                        |2011     |\n",
      "|The Tree of Life                 |2011     |\n",
      "+---------------------------------+---------+"
     ]
    }
   ],
   "source": [
    "join_actors_df.select(\"primaryTitle\", \"startYear\")\\\n",
    "    .filter((col(\"startYear\") > 2010) & (col(\"primaryName\") == \"Brad Pitt\"))\\\n",
    "    .sort(col(\"startYear\").desc())\\\n",
    "    .distinct()\\\n",
    "    .show(truncate=False)"
   ]
  },
  {
   "cell_type": "markdown",
   "id": "67fc41d2",
   "metadata": {
    "id": "67fc41d2"
   },
   "source": [
    "## 3) What is the number of \"movies\" \"acted\" by \"Zendaya\" per year?"
   ]
  },
  {
   "cell_type": "code",
   "execution_count": 33,
   "id": "9cef658c",
   "metadata": {
    "colab": {
     "referenced_widgets": [
      "ce6e3bc907cf4150ad1a49517708267d",
      ""
     ]
    },
    "id": "9cef658c",
    "outputId": "f147b904-cc4e-4cf2-aef6-6a8211c33750"
   },
   "outputs": [
    {
     "data": {
      "application/vnd.jupyter.widget-view+json": {
       "model_id": "9ed3441602c3423dbc87d550a67aa778",
       "version_major": 2,
       "version_minor": 0
      },
      "text/plain": [
       "VBox()"
      ]
     },
     "metadata": {},
     "output_type": "display_data"
    },
    {
     "data": {
      "application/vnd.jupyter.widget-view+json": {
       "model_id": "",
       "version_major": 2,
       "version_minor": 0
      },
      "text/plain": [
       "FloatProgress(value=0.0, bar_style='info', description='Progress:', layout=Layout(height='25px', width='50%'),…"
      ]
     },
     "metadata": {},
     "output_type": "display_data"
    },
    {
     "name": "stdout",
     "output_type": "stream",
     "text": [
      "+---------+-----+\n",
      "|startYear|count|\n",
      "+---------+-----+\n",
      "|2020     |1    |\n",
      "|2018     |2    |\n",
      "|2017     |1    |\n",
      "+---------+-----+"
     ]
    }
   ],
   "source": [
    "from pyspark.sql.functions import avg, mean, count, sum, col, max\n",
    "zendaya_df = join_actors_df.filter((col(\"primaryName\") == \"Zendaya\") &\\\n",
    "                                   (col(\"category\") == \"actress\") &\\\n",
    "                                   (col(\"startYear\") != \"\\\\N\"))\n",
    "zendaya_df.groupBy(\"startYear\").count()\\\n",
    "    .sort(col(\"startYear\").desc())\\\n",
    "    .show(truncate=False) "
   ]
  },
  {
   "cell_type": "markdown",
   "id": "b3fe5091",
   "metadata": {
    "id": "b3fe5091"
   },
   "source": [
    "## 4) What are the \"movies\" by average rating greater than \"9.7\" and released in \"2019\"?"
   ]
  },
  {
   "cell_type": "code",
   "execution_count": 34,
   "id": "3e12e0fc",
   "metadata": {},
   "outputs": [
    {
     "data": {
      "application/vnd.jupyter.widget-view+json": {
       "model_id": "5b6480e534f54736b1c35fc841e86793",
       "version_major": 2,
       "version_minor": 0
      },
      "text/plain": [
       "VBox()"
      ]
     },
     "metadata": {},
     "output_type": "display_data"
    },
    {
     "data": {
      "application/vnd.jupyter.widget-view+json": {
       "model_id": "",
       "version_major": 2,
       "version_minor": 0
      },
      "text/plain": [
       "FloatProgress(value=0.0, bar_style='info', description='Progress:', layout=Layout(height='25px', width='50%'),…"
      ]
     },
     "metadata": {},
     "output_type": "display_data"
    },
    {
     "name": "stdout",
     "output_type": "stream",
     "text": [
      "+-------------------------------------------------+-------------+\n",
      "|primaryTitle                                     |averageRating|\n",
      "+-------------------------------------------------+-------------+\n",
      "|Kirket                                           |10.0         |\n",
      "|Our Scripted Life                                |10.0         |\n",
      "|The Twilight Zone: A 60th Anniversary Celebration|10.0         |\n",
      "|Bu Can Var Oldugu Sürece                         |10.0         |\n",
      "|L'Enfant Terrible                                |10.0         |\n",
      "|Love in Kilnerry                                 |10.0         |\n",
      "|A Grunt's Life                                   |10.0         |\n",
      "|A Medicine for the Mind                          |10.0         |\n",
      "|The Butcher Baronet                              |10.0         |\n",
      "|Puritan: All of Life to The Glory of God         |9.9          |\n",
      "|Superhombre                                      |9.9          |\n",
      "|The Cardinal                                     |9.9          |\n",
      "|Kamen Rider Zi-O: Over Quartzer                  |9.8          |\n",
      "|Square One                                       |9.8          |\n",
      "|Time and motion                                  |9.8          |\n",
      "|We Shall Not Die Now                             |9.8          |\n",
      "|Randhawa                                         |9.8          |\n",
      "|Gini Helida Kathe                                |9.8          |\n",
      "|From Shock to Awe                                |9.8          |\n",
      "+-------------------------------------------------+-------------+"
     ]
    }
   ],
   "source": [
    "movies = genre_df.join(movie_rating_df, on=\"tconst\", how=\"inner\")\\\n",
    "                        .select(\"primaryTitle\", \"averageRating\")\\\n",
    "                        .filter((col(\"startYear\") == 2019) &\\\n",
    "                                (col(\"averageRating\") > 9.7) &\\\n",
    "                                (col(\"titleType\")==\"movie\"))\\\n",
    "                        .withColumn(\"averageRating\", col(\"averageRating\").cast(\"float\"))\\\n",
    "                        .sort(col(\"averageRating\").desc())\\\n",
    "                        .show(truncate=False)"
   ]
  },
  {
   "cell_type": "markdown",
   "id": "a33b20a6",
   "metadata": {
    "id": "a33b20a6"
   },
   "source": [
    "## Extra Credit - Analysis of your choice\n",
    "\n",
    "Try and analyze some interesting dimension to this data. You should specify the question in your Project2_Analysis.ipynb. \n",
    "\n",
    "You must join at least two datasets.\n"
   ]
  },
  {
   "cell_type": "code",
   "execution_count": 36,
   "id": "4c1845ed",
   "metadata": {
    "id": "4c1845ed"
   },
   "outputs": [
    {
     "data": {
      "application/vnd.jupyter.widget-view+json": {
       "model_id": "cb1e2440d3cd459c9fd83be344b16098",
       "version_major": 2,
       "version_minor": 0
      },
      "text/plain": [
       "VBox()"
      ]
     },
     "metadata": {},
     "output_type": "display_data"
    },
    {
     "data": {
      "application/vnd.jupyter.widget-view+json": {
       "model_id": "",
       "version_major": 2,
       "version_minor": 0
      },
      "text/plain": [
       "FloatProgress(value=0.0, bar_style='info', description='Progress:', layout=Layout(height='25px', width='50%'),…"
      ]
     },
     "metadata": {},
     "output_type": "display_data"
    },
    {
     "name": "stdout",
     "output_type": "stream",
     "text": [
      "+----------------------------+---------+-------------+--------+\n",
      "|primaryTitle                |startYear|averageRating|numVotes|\n",
      "+----------------------------+---------+-------------+--------+\n",
      "|Guardians of the Galaxy     |2014     |8.0          |980782  |\n",
      "|Back to the Future          |1985     |8.5          |965539  |\n",
      "|Finding Nemo                |2003     |8.1          |889815  |\n",
      "|Up                          |2009     |8.2          |869619  |\n",
      "|The Truman Show             |1998     |8.1          |861373  |\n",
      "|Deadpool                    |2016     |8.0          |845855  |\n",
      "|Toy Story                   |1995     |8.3          |822978  |\n",
      "|Monsters, Inc.              |2001     |8.0          |760273  |\n",
      "|Snatch                      |2000     |8.3          |734562  |\n",
      "|Toy Story 3                 |2010     |8.3          |707372  |\n",
      "|The Intouchables            |2011     |8.5          |698385  |\n",
      "|The Hangover                |2009     |7.7          |682340  |\n",
      "|The Big Lebowski            |1998     |8.1          |679283  |\n",
      "|Amélie                      |2001     |8.3          |665574  |\n",
      "|The Grand Budapest Hotel    |2014     |8.1          |650491  |\n",
      "|Silver Linings Playbook     |2012     |7.7          |630283  |\n",
      "|Ratatouille                 |2007     |8.0          |595611  |\n",
      "|Shrek                       |2001     |7.8          |576250  |\n",
      "|Life Is Beautiful           |1997     |8.6          |570765  |\n",
      "|Kingsman: The Secret Service|2014     |7.7          |557057  |\n",
      "+----------------------------+---------+-------------+--------+\n",
      "only showing top 20 rows"
     ]
    }
   ],
   "source": [
    "# Most Voted for Comedy Movies\n",
    "genre_rating = genre_exploded_nNA_df.join(movie_rating_df, on=[\"tconst\"], how=\"inner\")\\\n",
    "    .select(\"startYear\",\"primaryTitle\", \"genre\", \"numVotes\", \"averageRating\", \"titleType\")\\\n",
    "    .withColumn(\"numVotes\", col(\"numVotes\").cast(\"int\"))\\\n",
    "    .filter((col(\"genre\") == \"Comedy\") &(col(\"titleType\") == \"movie\"))\\\n",
    "    .sort(col(\"numVotes\").desc())\n",
    "\n",
    "genre_rating.select(\"primaryTitle\", \"startYear\", \"averageRating\",\"numVotes\").show(truncate=False)\n",
    "\n",
    "# Most Voted for Comedy Movie was Guardians of the Galaxy"
   ]
  },
  {
   "cell_type": "code",
   "execution_count": 37,
   "id": "0edf3984",
   "metadata": {
    "colab": {
     "referenced_widgets": [
      "d144c1f38deb4bcb9f21f10566e7d4b8",
      ""
     ]
    },
    "id": "0edf3984",
    "outputId": "0d5a545b-ae1f-4256-d687-0b763b3c7c4a"
   },
   "outputs": [
    {
     "data": {
      "application/vnd.jupyter.widget-view+json": {
       "model_id": "ac658a39504f44f7a32bcff8dcd2ab3a",
       "version_major": 2,
       "version_minor": 0
      },
      "text/plain": [
       "VBox()"
      ]
     },
     "metadata": {},
     "output_type": "display_data"
    },
    {
     "data": {
      "application/vnd.jupyter.widget-view+json": {
       "model_id": "",
       "version_major": 2,
       "version_minor": 0
      },
      "text/plain": [
       "FloatProgress(value=0.0, bar_style='info', description='Progress:', layout=Layout(height='25px', width='50%'),…"
      ]
     },
     "metadata": {},
     "output_type": "display_data"
    },
    {
     "name": "stdout",
     "output_type": "stream",
     "text": [
      "+---------------------+--------------------------------------+---------+---------+\n",
      "|primaryName          |primaryTitle                          |startYear|num_roles|\n",
      "+---------------------+--------------------------------------+---------+---------+\n",
      "|Jorge Silva Melo     |Ângelo de Sousa - Tudo o Que Sou Capaz|2010     |7        |\n",
      "|Adrian Wallace       |Because We Are                        |2020     |6        |\n",
      "|Saint Chris          |Because We Are                        |2020     |6        |\n",
      "|Larry Enright        |How many times can God save me        |2014     |5        |\n",
      "|Zo Williams          |Escape from Candyland                 |2017     |4        |\n",
      "|Pyotr Buslov         |Boomerang                             |2020     |4        |\n",
      "|Larry Enright        |Dead and Deleted The Ted Giles Story  |2019     |4        |\n",
      "|Domini Quinn Supastar|Escape from Candyland                 |2017     |4        |\n",
      "|William Shakespeare  |Hamlet                                |1964     |4        |\n",
      "|Daniel Alexander     |Freeing Bernie Baran                  |2010     |3        |\n",
      "|Steven Robinson      |Donydji                               |2011     |3        |\n",
      "|Joe Cardamone        |The Icarus Line Must Die              |2017     |3        |\n",
      "|Paul Prince          |MBM                                   |2016     |3        |\n",
      "|Manish Sharma        |Baokchambab                           |2019     |3        |\n",
      "|Gakusui Ego          |Goketsû no hana                       |1929     |3        |\n",
      "|Sunday Black         |Before Purgatory                      |2011     |3        |\n",
      "|Stefan Moore         |Presumed Innocent                     |1975     |3        |\n",
      "|Lawrence Hinson III  |Ace Jayson: Internet Spy              |2018     |3        |\n",
      "|Aneek Chaudhuri      |The Wife's Letter                     |2016     |3        |\n",
      "|Kathy Swanson        |Farmer of the Year                    |2018     |3        |\n",
      "+---------------------+--------------------------------------+---------+---------+\n",
      "only showing top 20 rows"
     ]
    }
   ],
   "source": [
    "# Which movies did people have multiple roles (actor, director, producer, etc)?\n",
    "# Sort in descending order \n",
    "join_actors_df.groupBy(\"primaryName\",\"primaryTitle\",\"startYear\")\\\n",
    "            .agg(count(\"category\").alias(\"num_roles\"))\\\n",
    "            .filter((col(\"num_roles\") > 1) & (col(\"startYear\")!= nll))\\\n",
    "            .sort(col(\"num_roles\").desc())\\\n",
    "            .show(truncate=False)\n",
    "\n",
    "# Appears to be mostly people who worked on independent movies and foreign movies"
   ]
  },
  {
   "cell_type": "code",
   "execution_count": 38,
   "id": "wf91kYQBwn-L",
   "metadata": {
    "id": "wf91kYQBwn-L"
   },
   "outputs": [
    {
     "data": {
      "application/vnd.jupyter.widget-view+json": {
       "model_id": "a96f98a16107447a8ddac9ba7650d9ca",
       "version_major": 2,
       "version_minor": 0
      },
      "text/plain": [
       "VBox()"
      ]
     },
     "metadata": {},
     "output_type": "display_data"
    },
    {
     "data": {
      "application/vnd.jupyter.widget-view+json": {
       "model_id": "",
       "version_major": 2,
       "version_minor": 0
      },
      "text/plain": [
       "FloatProgress(value=0.0, bar_style='info', description='Progress:', layout=Layout(height='25px', width='50%'),…"
      ]
     },
     "metadata": {},
     "output_type": "display_data"
    },
    {
     "name": "stdout",
     "output_type": "stream",
     "text": [
      "+---------------------------------------+--------+\n",
      "|primaryTitle                           |category|\n",
      "+---------------------------------------+--------+\n",
      "|Othello                                |actor   |\n",
      "|Love's Labour's Lost                   |actor   |\n",
      "|Branagh Theatre Live: The Winter's Tale|actor   |\n",
      "|Much Ado About Nothing                 |actor   |\n",
      "|Henry V                                |actor   |\n",
      "|Macbeth                                |actor   |\n",
      "|Discovering Hamlet                     |self    |\n",
      "|Hamlet                                 |actor   |\n",
      "|Symphony for the Spire                 |self    |\n",
      "|As You Like It                         |director|\n",
      "+---------------------------------------+--------+"
     ]
    }
   ],
   "source": [
    "# Kenneth Branagh is known as a Shakespearian actor. Which plays has he worked on.\n",
    "# Shakespeare plays Kenneth Branagh has worked on and in what role (can include multiple roles)\n",
    "\n",
    "shakespeare_df = actors_df.join(movie_actors_df, actors_df.nconst == movie_actors_df.nconst, how =\"inner\")\\\n",
    "                .join(genre_exploded_nNA_df, on=[\"tconst\"], how=\"inner\")\\\n",
    "                .filter((col(\"primaryName\") == \"William Shakespeare\") & (col(\"category\") == \"writer\"))\\\n",
    "                .select(\"tconst\", \"primaryTitle\", \"startYear\").distinct()\n",
    "                # all shakespeare play movies\n",
    "\n",
    "ken_bra_df = shakespeare_df.join(movie_actors_df, on=[\"tconst\"], how =\"inner\")\\\n",
    "            .join(actors_df, on=[\"nconst\"], how=\"inner\")\\\n",
    "            .filter(col(\"primaryName\") == \"Kenneth Branagh\")\\\n",
    "            .select(\"primaryTitle\", \"category\")\\\n",
    "            .show(truncate=False)\n"
   ]
  },
  {
   "cell_type": "code",
   "execution_count": 39,
   "id": "04vYOnjdqe_M",
   "metadata": {
    "id": "04vYOnjdqe_M"
   },
   "outputs": [
    {
     "data": {
      "application/vnd.jupyter.widget-view+json": {
       "model_id": "e16a5a24fbb44184a84c3441836d682d",
       "version_major": 2,
       "version_minor": 0
      },
      "text/plain": [
       "VBox()"
      ]
     },
     "metadata": {},
     "output_type": "display_data"
    },
    {
     "data": {
      "application/vnd.jupyter.widget-view+json": {
       "model_id": "",
       "version_major": 2,
       "version_minor": 0
      },
      "text/plain": [
       "FloatProgress(value=0.0, bar_style='info', description='Progress:', layout=Layout(height='25px', width='50%'),…"
      ]
     },
     "metadata": {},
     "output_type": "display_data"
    },
    {
     "name": "stdout",
     "output_type": "stream",
     "text": [
      "+-----------------------------------+-------------+\n",
      "|primaryTitle                       |averageRating|\n",
      "+-----------------------------------+-------------+\n",
      "|Good Will Hunting                  |8.3          |\n",
      "|Dead Poets Society                 |8.1          |\n",
      "|Aladdin                            |8.0          |\n",
      "|Robin Williams: Come Inside My Mind|8.0          |\n",
      "|Awakenings                         |7.8          |\n",
      "|Dreams with Sharp Teeth            |7.8          |\n",
      "|Emmanuel's Gift                    |7.6          |\n",
      "|The Fisher King                    |7.5          |\n",
      "|Good Morning, Vietnam              |7.3          |\n",
      "|Insomnia                           |7.2          |\n",
      "+-----------------------------------+-------------+\n",
      "only showing top 10 rows"
     ]
    }
   ],
   "source": [
    "# Top 10 Highest Rated Robin Williams movies\n",
    "join_4_df = join_actors_df.join(movie_rating_df, on=\"tconst\", how=\"inner\")\\\n",
    "                        .withColumn(\"averageRating\", col(\"averageRating\").cast(\"float\"))\\\n",
    "\n",
    "join_4_df.select(\"primaryTitle\", \"averageRating\")\\\n",
    "        .filter((col(\"primaryName\") == \"Robin Williams\"))\\\n",
    "        .sort(col(\"averageRating\").desc())\\\n",
    "        .show(10, truncate=False)\n",
    "\n",
    "# Robin Williams' highest rated movie was Good Will Hunting, the only movie he received an Oscar for"
   ]
  },
  {
   "cell_type": "code",
   "execution_count": 55,
   "id": "fef59090",
   "metadata": {},
   "outputs": [
    {
     "data": {
      "application/vnd.jupyter.widget-view+json": {
       "model_id": "918dd02d107042e980f9daf789a8894a",
       "version_major": 2,
       "version_minor": 0
      },
      "text/plain": [
       "VBox()"
      ]
     },
     "metadata": {},
     "output_type": "display_data"
    },
    {
     "data": {
      "application/vnd.jupyter.widget-view+json": {
       "model_id": "",
       "version_major": 2,
       "version_minor": 0
      },
      "text/plain": [
       "FloatProgress(value=0.0, bar_style='info', description='Progress:', layout=Layout(height='25px', width='50%'),…"
      ]
     },
     "metadata": {},
     "output_type": "display_data"
    },
    {
     "name": "stdout",
     "output_type": "stream",
     "text": [
      "+----------------+----------------------+---------+\n",
      "|primaryName     |primaryTitle          |startYear|\n",
      "+----------------+----------------------+---------+\n",
      "|Tom Green       |The X-Ray Fiend       |1897     |\n",
      "|Henry Short     |A Sea Cave Near Lisbon|1896     |\n",
      "|Robert W. Paul  |The Deserter          |1898     |\n",
      "|Lidia Balogh    |A táncz               |1901     |\n",
      "|Ilona Berzetey  |A táncz               |1901     |\n",
      "|Lujza Blaha     |A táncz               |1901     |\n",
      "|Aranka Hegyi    |A táncz               |1901     |\n",
      "|Kálmán Kenedich |A táncz               |1901     |\n",
      "|Aurel Kern      |A táncz               |1901     |\n",
      "|Kornerek        |A táncz               |1901     |\n",
      "|Margit Maróthy  |A táncz               |1901     |\n",
      "|Emilia Márkus   |A táncz               |1901     |\n",
      "|Linda Niko      |A táncz               |1901     |\n",
      "|Emilia Nirschy  |A táncz               |1901     |\n",
      "|Gyula Pekár     |A táncz               |1901     |\n",
      "|Ilka Pálmay     |A táncz               |1901     |\n",
      "|Ákos Ráthonyi   |A táncz               |1901     |\n",
      "|Gizella Schmidek|A táncz               |1901     |\n",
      "|Tessa Dietz     |A táncz               |1901     |\n",
      "|Margit Hajdu    |A táncz               |1901     |\n",
      "+----------------+----------------------+---------+\n",
      "only showing top 20 rows"
     ]
    }
   ],
   "source": [
    "# What are the names of the movies actors are known for? Only released movies\n",
    "\n",
    "actors_df_expand.join(genre_df, actors_df_expand.knownForTitles == genre_df.tconst, how=\"inner\")\\\n",
    "                .select(\"primaryName\", \"primaryTitle\", \"startYear\")\\\n",
    "                .filter((col(\"startYear\")!= nll) & (col(\"startYear\") <= 2022))\\\n",
    "                .show(truncate=False)"
   ]
  }
 ],
 "metadata": {
  "colab": {
   "collapsed_sections": [
    "0cae0d39"
   ],
   "provenance": []
  },
  "kernelspec": {
   "display_name": "PySpark",
   "language": "",
   "name": "pysparkkernel"
  },
  "language_info": {
   "codemirror_mode": {
    "name": "python",
    "version": 2
   },
   "mimetype": "text/x-python",
   "name": "pyspark",
   "pygments_lexer": "python2"
  }
 },
 "nbformat": 4,
 "nbformat_minor": 5
}
